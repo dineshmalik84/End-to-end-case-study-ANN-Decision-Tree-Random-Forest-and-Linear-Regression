{
 "cells": [
  {
   "cell_type": "markdown",
   "metadata": {
    "colab_type": "text",
    "id": "rApPHbYBc702"
   },
   "source": [
    "# Regression Case Study\n",
    "\n",
    "**PROBLEM STATEMENT** \n",
    "There is a huge demand of used cars in the Indian Market today. As sale of new car have slowed down in the recent past, the pre-owned car market has continued to grow over the past year and is larger than the new car market now. Consider this: In 2018-19, while new car sales were recorded at 3.6 million units, around 4 million second-hand cars were bought and sold. There is a slowdown in new car sales and that could mean that the demand is shifting towards the pre-owned market. In fact, some car sellers replace their old cars with pre-owned cars instead of buying new ones.\n",
    "\n",
    "The goal of the case is as follows:\n",
    "\n",
    "- The one major factor that holds anyone back while buying a used car is the price(target variable).You will be predicting the Price of used cars with the data collected from various sources and distributed across various locations in India.\n",
    "- Compare different models and find out which one is the most suitable in this case in predicting the prices."
   ]
  },
  {
   "cell_type": "markdown",
   "metadata": {},
   "source": [
    "**Data Dictionary**"
   ]
  },
  {
   "cell_type": "markdown",
   "metadata": {},
   "source": [
    "1. **Name:** The brand and model of the car.\n",
    "2. **Location:** The location in which the car is being sold or is available for purchase.\n",
    "3. **Year:** The year or edition of the model.\n",
    "4. **Kilometers_Driven:** The total kilometers driven in the car by the previous owner(s) in KM.\n",
    "5. **Fuel_Type:** The type of fuel used by the car.\n",
    "6. **Transmission:** The type of transmission used by the car.\n",
    "7. **Owner_Type:** Whether the ownership is Firsthand, Second hand or other.\n",
    "8. **Mileage:** The standard mileage offered by the car company in kmpl or km/kg\n",
    "9. **Engine:** The displacement volume of the engine in cc.\n",
    "10. **Power:** The maximum power of the engine in bhp.\n",
    "11. **Seats:** The number of seats in the car.\n",
    "12. **New_Price:** The price of a new car of the same model.\n",
    "13. **Price:** The price of the used car in INR Lakhs.\n",
    "\n"
   ]
  },
  {
   "cell_type": "code",
   "execution_count": 1,
   "metadata": {
    "ExecuteTime": {
     "end_time": "2021-11-20T14:10:09.780274Z",
     "start_time": "2021-11-20T14:10:05.604798Z"
    }
   },
   "outputs": [],
   "source": [
    "import numpy as np\n",
    "import pandas as pd\n",
    "import matplotlib.pyplot as plt\n",
    "%matplotlib inline\n",
    "import seaborn as sns\n",
    "from sklearn.preprocessing import StandardScaler\n",
    "from sklearn.model_selection import train_test_split\n",
    "from sklearn.linear_model import LinearRegression\n",
    "from sklearn import tree\n",
    "from sklearn.ensemble import RandomForestRegressor\n",
    "from sklearn.neural_network import MLPRegressor\n",
    "from sklearn.metrics import mean_squared_error\n",
    "from sklearn.metrics import mean_absolute_error\n",
    "from sklearn.model_selection import GridSearchCV\n",
    "import warnings\n",
    "warnings.filterwarnings('ignore') # To supress warnings\n",
    "pd.set_option('display.float_format', lambda x: '%.5f' % x) # To supress numerical display in scientific notations"
   ]
  },
  {
   "cell_type": "markdown",
   "metadata": {},
   "source": [
    "**Read the data**"
   ]
  },
  {
   "cell_type": "code",
   "execution_count": 2,
   "metadata": {
    "ExecuteTime": {
     "end_time": "2021-11-20T14:10:09.890120Z",
     "start_time": "2021-11-20T14:10:09.831137Z"
    }
   },
   "outputs": [],
   "source": [
    "cars=pd.read_csv('Cars.csv')"
   ]
  },
  {
   "cell_type": "markdown",
   "metadata": {},
   "source": [
    "**Check the Head**"
   ]
  },
  {
   "cell_type": "code",
   "execution_count": 3,
   "metadata": {
    "ExecuteTime": {
     "end_time": "2021-11-20T14:10:10.755336Z",
     "start_time": "2021-11-20T14:10:10.726413Z"
    }
   },
   "outputs": [
    {
     "data": {
      "text/html": [
       "<div>\n",
       "<style scoped>\n",
       "    .dataframe tbody tr th:only-of-type {\n",
       "        vertical-align: middle;\n",
       "    }\n",
       "\n",
       "    .dataframe tbody tr th {\n",
       "        vertical-align: top;\n",
       "    }\n",
       "\n",
       "    .dataframe thead th {\n",
       "        text-align: right;\n",
       "    }\n",
       "</style>\n",
       "<table border=\"1\" class=\"dataframe\">\n",
       "  <thead>\n",
       "    <tr style=\"text-align: right;\">\n",
       "      <th></th>\n",
       "      <th>Name</th>\n",
       "      <th>Location</th>\n",
       "      <th>Year</th>\n",
       "      <th>Kilometers_Driven</th>\n",
       "      <th>Fuel_Type</th>\n",
       "      <th>Transmission</th>\n",
       "      <th>Owner_Type</th>\n",
       "      <th>Mileage</th>\n",
       "      <th>Engine</th>\n",
       "      <th>Power</th>\n",
       "      <th>Colour</th>\n",
       "      <th>Seats</th>\n",
       "      <th>No. of Doors</th>\n",
       "      <th>New_Price</th>\n",
       "      <th>Price</th>\n",
       "    </tr>\n",
       "  </thead>\n",
       "  <tbody>\n",
       "    <tr>\n",
       "      <th>0</th>\n",
       "      <td>Mahindra Scorpio</td>\n",
       "      <td>Pune</td>\n",
       "      <td>2012.00000</td>\n",
       "      <td>99000.00000</td>\n",
       "      <td>Diesel</td>\n",
       "      <td>Manual</td>\n",
       "      <td>Third</td>\n",
       "      <td>12.05 kmpl</td>\n",
       "      <td>2179 CC</td>\n",
       "      <td>120 bhp</td>\n",
       "      <td>Black/Silver</td>\n",
       "      <td>8.00000</td>\n",
       "      <td>5.00000</td>\n",
       "      <td>NaN</td>\n",
       "      <td>6.00000</td>\n",
       "    </tr>\n",
       "    <tr>\n",
       "      <th>1</th>\n",
       "      <td>Maruti Baleno</td>\n",
       "      <td>Kochi</td>\n",
       "      <td>2018.00000</td>\n",
       "      <td>18678.00000</td>\n",
       "      <td>Petrol</td>\n",
       "      <td>Manual</td>\n",
       "      <td>First</td>\n",
       "      <td>21.1 kmpl</td>\n",
       "      <td>998 CC</td>\n",
       "      <td>100 bhp</td>\n",
       "      <td>Others</td>\n",
       "      <td>5.00000</td>\n",
       "      <td>4.00000</td>\n",
       "      <td>NaN</td>\n",
       "      <td>8.32000</td>\n",
       "    </tr>\n",
       "    <tr>\n",
       "      <th>2</th>\n",
       "      <td>Mahindra Xylo</td>\n",
       "      <td>Bangalore</td>\n",
       "      <td>2013.00000</td>\n",
       "      <td>197000.00000</td>\n",
       "      <td>Diesel</td>\n",
       "      <td>Manual</td>\n",
       "      <td>First</td>\n",
       "      <td>11.68 kmpl</td>\n",
       "      <td>2498 CC</td>\n",
       "      <td>112 bhp</td>\n",
       "      <td>White</td>\n",
       "      <td>7.00000</td>\n",
       "      <td>5.00000</td>\n",
       "      <td>NaN</td>\n",
       "      <td>4.00000</td>\n",
       "    </tr>\n",
       "    <tr>\n",
       "      <th>3</th>\n",
       "      <td>Hyundai Grand</td>\n",
       "      <td>Delhi</td>\n",
       "      <td>2014.00000</td>\n",
       "      <td>45000.00000</td>\n",
       "      <td>Diesel</td>\n",
       "      <td>Manual</td>\n",
       "      <td>First</td>\n",
       "      <td>24.0 kmpl</td>\n",
       "      <td>1120 CC</td>\n",
       "      <td>70 bhp</td>\n",
       "      <td>White</td>\n",
       "      <td>5.00000</td>\n",
       "      <td>4.00000</td>\n",
       "      <td>NaN</td>\n",
       "      <td>3.49000</td>\n",
       "    </tr>\n",
       "    <tr>\n",
       "      <th>4</th>\n",
       "      <td>Toyota Innova</td>\n",
       "      <td>Delhi</td>\n",
       "      <td>2011.00000</td>\n",
       "      <td>65000.00000</td>\n",
       "      <td>Diesel</td>\n",
       "      <td>Manual</td>\n",
       "      <td>First</td>\n",
       "      <td>12.8 kmpl</td>\n",
       "      <td>2494 CC</td>\n",
       "      <td>102 bhp</td>\n",
       "      <td>Others</td>\n",
       "      <td>8.00000</td>\n",
       "      <td>5.00000</td>\n",
       "      <td>NaN</td>\n",
       "      <td>6.40000</td>\n",
       "    </tr>\n",
       "  </tbody>\n",
       "</table>\n",
       "</div>"
      ],
      "text/plain": [
       "               Name   Location       Year  Kilometers_Driven Fuel_Type  \\\n",
       "0  Mahindra Scorpio       Pune 2012.00000        99000.00000    Diesel   \n",
       "1     Maruti Baleno      Kochi 2018.00000        18678.00000    Petrol   \n",
       "2     Mahindra Xylo  Bangalore 2013.00000       197000.00000    Diesel   \n",
       "3     Hyundai Grand      Delhi 2014.00000        45000.00000    Diesel   \n",
       "4     Toyota Innova      Delhi 2011.00000        65000.00000    Diesel   \n",
       "\n",
       "  Transmission Owner_Type     Mileage   Engine    Power        Colour   Seats  \\\n",
       "0       Manual      Third  12.05 kmpl  2179 CC  120 bhp  Black/Silver 8.00000   \n",
       "1       Manual      First   21.1 kmpl   998 CC  100 bhp        Others 5.00000   \n",
       "2       Manual      First  11.68 kmpl  2498 CC  112 bhp         White 7.00000   \n",
       "3       Manual      First   24.0 kmpl  1120 CC   70 bhp         White 5.00000   \n",
       "4       Manual      First   12.8 kmpl  2494 CC  102 bhp        Others 8.00000   \n",
       "\n",
       "   No. of Doors New_Price   Price  \n",
       "0       5.00000       NaN 6.00000  \n",
       "1       4.00000       NaN 8.32000  \n",
       "2       5.00000       NaN 4.00000  \n",
       "3       4.00000       NaN 3.49000  \n",
       "4       5.00000       NaN 6.40000  "
      ]
     },
     "execution_count": 3,
     "metadata": {},
     "output_type": "execute_result"
    }
   ],
   "source": [
    "cars.head()"
   ]
  },
  {
   "cell_type": "code",
   "execution_count": 4,
   "metadata": {
    "ExecuteTime": {
     "end_time": "2021-11-20T14:16:35.732313Z",
     "start_time": "2021-11-20T14:16:15.117101Z"
    }
   },
   "outputs": [
    {
     "data": {
      "application/vnd.jupyter.widget-view+json": {
       "model_id": "f775df0a9abe423ca344eaa33b0dbb97",
       "version_major": 2,
       "version_minor": 0
      },
      "text/plain": [
       "Summarize dataset:   0%|          | 0/28 [00:00<?, ?it/s]"
      ]
     },
     "metadata": {},
     "output_type": "display_data"
    },
    {
     "data": {
      "application/vnd.jupyter.widget-view+json": {
       "model_id": "ab0de216de0c48a597e7367eff79508b",
       "version_major": 2,
       "version_minor": 0
      },
      "text/plain": [
       "Generate report structure:   0%|          | 0/1 [00:00<?, ?it/s]"
      ]
     },
     "metadata": {},
     "output_type": "display_data"
    },
    {
     "data": {
      "application/vnd.jupyter.widget-view+json": {
       "model_id": "7e4b515e03ff41e294878cdf6be87c07",
       "version_major": 2,
       "version_minor": 0
      },
      "text/plain": [
       "Render HTML:   0%|          | 0/1 [00:00<?, ?it/s]"
      ]
     },
     "metadata": {},
     "output_type": "display_data"
    },
    {
     "data": {
      "application/vnd.jupyter.widget-view+json": {
       "model_id": "e90fa521b85e4f849c283b8f3dff5e4f",
       "version_major": 2,
       "version_minor": 0
      },
      "text/plain": [
       "Export report to file:   0%|          | 0/1 [00:00<?, ?it/s]"
      ]
     },
     "metadata": {},
     "output_type": "display_data"
    }
   ],
   "source": [
    "from pandas_profiling import ProfileReport\n",
    "report = ProfileReport(cars)\n",
    "report.to_file(\"Report.html\")"
   ]
  },
  {
   "cell_type": "code",
   "execution_count": 6,
   "metadata": {
    "ExecuteTime": {
     "end_time": "2021-11-20T14:24:56.683505Z",
     "start_time": "2021-11-20T14:24:56.664554Z"
    }
   },
   "outputs": [
    {
     "data": {
      "text/plain": [
       "(5961, 15)"
      ]
     },
     "execution_count": 6,
     "metadata": {},
     "output_type": "execute_result"
    }
   ],
   "source": [
    "cars.shape"
   ]
  },
  {
   "cell_type": "code",
   "execution_count": 5,
   "metadata": {
    "ExecuteTime": {
     "end_time": "2021-02-07T06:51:59.295585Z",
     "start_time": "2021-02-07T06:51:59.218629Z"
    }
   },
   "outputs": [],
   "source": [
    "#cars =cars[(cars['Year'] >= 2000) & ()] - remove older data if resale of vehicles of tht year not allowed anymore"
   ]
  },
  {
   "cell_type": "markdown",
   "metadata": {},
   "source": [
    "**Get the info**"
   ]
  },
  {
   "cell_type": "code",
   "execution_count": 7,
   "metadata": {
    "ExecuteTime": {
     "end_time": "2021-11-20T14:25:03.935829Z",
     "start_time": "2021-11-20T14:25:03.917875Z"
    }
   },
   "outputs": [
    {
     "name": "stdout",
     "output_type": "stream",
     "text": [
      "<class 'pandas.core.frame.DataFrame'>\n",
      "RangeIndex: 5961 entries, 0 to 5960\n",
      "Data columns (total 15 columns):\n",
      " #   Column             Non-Null Count  Dtype  \n",
      "---  ------             --------------  -----  \n",
      " 0   Name               5961 non-null   object \n",
      " 1   Location           5950 non-null   object \n",
      " 2   Year               5959 non-null   float64\n",
      " 3   Kilometers_Driven  5953 non-null   float64\n",
      " 4   Fuel_Type          5961 non-null   object \n",
      " 5   Transmission       5934 non-null   object \n",
      " 6   Owner_Type         5946 non-null   object \n",
      " 7   Mileage            5959 non-null   object \n",
      " 8   Engine             5944 non-null   object \n",
      " 9   Power              5929 non-null   object \n",
      " 10  Colour             5950 non-null   object \n",
      " 11  Seats              5956 non-null   float64\n",
      " 12  No. of Doors       5960 non-null   float64\n",
      " 13  New_Price          824 non-null    object \n",
      " 14  Price              5961 non-null   float64\n",
      "dtypes: float64(5), object(10)\n",
      "memory usage: 698.7+ KB\n"
     ]
    }
   ],
   "source": [
    "cars.info()"
   ]
  },
  {
   "cell_type": "markdown",
   "metadata": {},
   "source": [
    "**Get the Summary Statistics**"
   ]
  },
  {
   "cell_type": "code",
   "execution_count": 8,
   "metadata": {
    "ExecuteTime": {
     "end_time": "2021-11-20T14:25:20.428622Z",
     "start_time": "2021-11-20T14:25:20.390723Z"
    }
   },
   "outputs": [
    {
     "data": {
      "text/html": [
       "<div>\n",
       "<style scoped>\n",
       "    .dataframe tbody tr th:only-of-type {\n",
       "        vertical-align: middle;\n",
       "    }\n",
       "\n",
       "    .dataframe tbody tr th {\n",
       "        vertical-align: top;\n",
       "    }\n",
       "\n",
       "    .dataframe thead th {\n",
       "        text-align: right;\n",
       "    }\n",
       "</style>\n",
       "<table border=\"1\" class=\"dataframe\">\n",
       "  <thead>\n",
       "    <tr style=\"text-align: right;\">\n",
       "      <th></th>\n",
       "      <th>count</th>\n",
       "      <th>mean</th>\n",
       "      <th>std</th>\n",
       "      <th>min</th>\n",
       "      <th>25%</th>\n",
       "      <th>50%</th>\n",
       "      <th>75%</th>\n",
       "      <th>max</th>\n",
       "    </tr>\n",
       "  </thead>\n",
       "  <tbody>\n",
       "    <tr>\n",
       "      <th>Year</th>\n",
       "      <td>5959.00000</td>\n",
       "      <td>2013.38916</td>\n",
       "      <td>3.24305</td>\n",
       "      <td>1998.00000</td>\n",
       "      <td>2011.50000</td>\n",
       "      <td>2014.00000</td>\n",
       "      <td>2016.00000</td>\n",
       "      <td>2019.00000</td>\n",
       "    </tr>\n",
       "    <tr>\n",
       "      <th>Kilometers_Driven</th>\n",
       "      <td>5953.00000</td>\n",
       "      <td>58711.10012</td>\n",
       "      <td>91712.20717</td>\n",
       "      <td>171.00000</td>\n",
       "      <td>33931.00000</td>\n",
       "      <td>53000.00000</td>\n",
       "      <td>73000.00000</td>\n",
       "      <td>6500000.00000</td>\n",
       "    </tr>\n",
       "    <tr>\n",
       "      <th>Seats</th>\n",
       "      <td>5956.00000</td>\n",
       "      <td>5.26914</td>\n",
       "      <td>0.78905</td>\n",
       "      <td>2.00000</td>\n",
       "      <td>5.00000</td>\n",
       "      <td>5.00000</td>\n",
       "      <td>5.00000</td>\n",
       "      <td>10.00000</td>\n",
       "    </tr>\n",
       "    <tr>\n",
       "      <th>No. of Doors</th>\n",
       "      <td>5960.00000</td>\n",
       "      <td>4.11493</td>\n",
       "      <td>0.34476</td>\n",
       "      <td>2.00000</td>\n",
       "      <td>4.00000</td>\n",
       "      <td>4.00000</td>\n",
       "      <td>4.00000</td>\n",
       "      <td>5.00000</td>\n",
       "    </tr>\n",
       "    <tr>\n",
       "      <th>Price</th>\n",
       "      <td>5961.00000</td>\n",
       "      <td>9.52810</td>\n",
       "      <td>11.21438</td>\n",
       "      <td>0.44000</td>\n",
       "      <td>3.50000</td>\n",
       "      <td>5.66000</td>\n",
       "      <td>10.00000</td>\n",
       "      <td>160.00000</td>\n",
       "    </tr>\n",
       "  </tbody>\n",
       "</table>\n",
       "</div>"
      ],
      "text/plain": [
       "                       count        mean         std        min         25%  \\\n",
       "Year              5959.00000  2013.38916     3.24305 1998.00000  2011.50000   \n",
       "Kilometers_Driven 5953.00000 58711.10012 91712.20717  171.00000 33931.00000   \n",
       "Seats             5956.00000     5.26914     0.78905    2.00000     5.00000   \n",
       "No. of Doors      5960.00000     4.11493     0.34476    2.00000     4.00000   \n",
       "Price             5961.00000     9.52810    11.21438    0.44000     3.50000   \n",
       "\n",
       "                          50%         75%           max  \n",
       "Year               2014.00000  2016.00000    2019.00000  \n",
       "Kilometers_Driven 53000.00000 73000.00000 6500000.00000  \n",
       "Seats                 5.00000     5.00000      10.00000  \n",
       "No. of Doors          4.00000     4.00000       5.00000  \n",
       "Price                 5.66000    10.00000     160.00000  "
      ]
     },
     "execution_count": 8,
     "metadata": {},
     "output_type": "execute_result"
    }
   ],
   "source": [
    "cars.describe().T"
   ]
  },
  {
   "cell_type": "code",
   "execution_count": 9,
   "metadata": {
    "ExecuteTime": {
     "end_time": "2021-11-20T14:28:31.345981Z",
     "start_time": "2021-11-20T14:28:31.291126Z"
    }
   },
   "outputs": [
    {
     "data": {
      "text/html": [
       "<div>\n",
       "<style scoped>\n",
       "    .dataframe tbody tr th:only-of-type {\n",
       "        vertical-align: middle;\n",
       "    }\n",
       "\n",
       "    .dataframe tbody tr th {\n",
       "        vertical-align: top;\n",
       "    }\n",
       "\n",
       "    .dataframe thead th {\n",
       "        text-align: right;\n",
       "    }\n",
       "</style>\n",
       "<table border=\"1\" class=\"dataframe\">\n",
       "  <thead>\n",
       "    <tr style=\"text-align: right;\">\n",
       "      <th></th>\n",
       "      <th>count</th>\n",
       "      <th>unique</th>\n",
       "      <th>top</th>\n",
       "      <th>freq</th>\n",
       "    </tr>\n",
       "  </thead>\n",
       "  <tbody>\n",
       "    <tr>\n",
       "      <th>Name</th>\n",
       "      <td>5961</td>\n",
       "      <td>212</td>\n",
       "      <td>Maruti Swift</td>\n",
       "      <td>343</td>\n",
       "    </tr>\n",
       "    <tr>\n",
       "      <th>Location</th>\n",
       "      <td>5950</td>\n",
       "      <td>11</td>\n",
       "      <td>Mumbai</td>\n",
       "      <td>781</td>\n",
       "    </tr>\n",
       "    <tr>\n",
       "      <th>Fuel_Type</th>\n",
       "      <td>5961</td>\n",
       "      <td>5</td>\n",
       "      <td>Diesel</td>\n",
       "      <td>3188</td>\n",
       "    </tr>\n",
       "    <tr>\n",
       "      <th>Transmission</th>\n",
       "      <td>5934</td>\n",
       "      <td>2</td>\n",
       "      <td>Manual</td>\n",
       "      <td>4225</td>\n",
       "    </tr>\n",
       "    <tr>\n",
       "      <th>Owner_Type</th>\n",
       "      <td>5946</td>\n",
       "      <td>4</td>\n",
       "      <td>First</td>\n",
       "      <td>4875</td>\n",
       "    </tr>\n",
       "    <tr>\n",
       "      <th>Mileage</th>\n",
       "      <td>5959</td>\n",
       "      <td>439</td>\n",
       "      <td>18.9 kmpl</td>\n",
       "      <td>172</td>\n",
       "    </tr>\n",
       "    <tr>\n",
       "      <th>Engine</th>\n",
       "      <td>5944</td>\n",
       "      <td>143</td>\n",
       "      <td>1197 CC</td>\n",
       "      <td>606</td>\n",
       "    </tr>\n",
       "    <tr>\n",
       "      <th>Power</th>\n",
       "      <td>5929</td>\n",
       "      <td>369</td>\n",
       "      <td>74 bhp</td>\n",
       "      <td>233</td>\n",
       "    </tr>\n",
       "    <tr>\n",
       "      <th>Colour</th>\n",
       "      <td>5950</td>\n",
       "      <td>3</td>\n",
       "      <td>White</td>\n",
       "      <td>2115</td>\n",
       "    </tr>\n",
       "    <tr>\n",
       "      <th>New_Price</th>\n",
       "      <td>824</td>\n",
       "      <td>540</td>\n",
       "      <td>4.78 Lakh</td>\n",
       "      <td>6</td>\n",
       "    </tr>\n",
       "  </tbody>\n",
       "</table>\n",
       "</div>"
      ],
      "text/plain": [
       "             count unique           top  freq\n",
       "Name          5961    212  Maruti Swift   343\n",
       "Location      5950     11        Mumbai   781\n",
       "Fuel_Type     5961      5        Diesel  3188\n",
       "Transmission  5934      2        Manual  4225\n",
       "Owner_Type    5946      4         First  4875\n",
       "Mileage       5959    439     18.9 kmpl   172\n",
       "Engine        5944    143       1197 CC   606\n",
       "Power         5929    369        74 bhp   233\n",
       "Colour        5950      3         White  2115\n",
       "New_Price      824    540     4.78 Lakh     6"
      ]
     },
     "execution_count": 9,
     "metadata": {},
     "output_type": "execute_result"
    }
   ],
   "source": [
    "cars.describe(include='object').T"
   ]
  },
  {
   "cell_type": "markdown",
   "metadata": {},
   "source": [
    "**Check for Null Values**"
   ]
  },
  {
   "cell_type": "code",
   "execution_count": 10,
   "metadata": {
    "ExecuteTime": {
     "end_time": "2021-11-20T14:29:36.959084Z",
     "start_time": "2021-11-20T14:29:36.934014Z"
    }
   },
   "outputs": [
    {
     "data": {
      "text/plain": [
       "Name                    0\n",
       "Location               11\n",
       "Year                    2\n",
       "Kilometers_Driven       8\n",
       "Fuel_Type               0\n",
       "Transmission           27\n",
       "Owner_Type             15\n",
       "Mileage                 2\n",
       "Engine                 17\n",
       "Power                  32\n",
       "Colour                 11\n",
       "Seats                   5\n",
       "No. of Doors            1\n",
       "New_Price            5137\n",
       "Price                   0\n",
       "dtype: int64"
      ]
     },
     "execution_count": 10,
     "metadata": {},
     "output_type": "execute_result"
    }
   ],
   "source": [
    "cars.isnull().sum()"
   ]
  },
  {
   "cell_type": "markdown",
   "metadata": {},
   "source": [
    "**% Null values**"
   ]
  },
  {
   "cell_type": "code",
   "execution_count": null,
   "metadata": {},
   "outputs": [],
   "source": [
    "cars.isnull().sum()/cars.isnull().sum().sum()*100"
   ]
  },
  {
   "cell_type": "markdown",
   "metadata": {},
   "source": [
    "**Since New_Price has over 97% Null values, we would drop this column for now**"
   ]
  },
  {
   "cell_type": "code",
   "execution_count": 11,
   "metadata": {
    "ExecuteTime": {
     "end_time": "2021-11-20T14:29:47.864079Z",
     "start_time": "2021-11-20T14:29:47.844133Z"
    }
   },
   "outputs": [],
   "source": [
    "cars.drop('New_Price',axis=1, inplace=True)"
   ]
  },
  {
   "cell_type": "code",
   "execution_count": 14,
   "metadata": {
    "ExecuteTime": {
     "end_time": "2021-11-20T14:30:31.472312Z",
     "start_time": "2021-11-20T14:30:31.437407Z"
    }
   },
   "outputs": [
    {
     "data": {
      "text/html": [
       "<div>\n",
       "<style scoped>\n",
       "    .dataframe tbody tr th:only-of-type {\n",
       "        vertical-align: middle;\n",
       "    }\n",
       "\n",
       "    .dataframe tbody tr th {\n",
       "        vertical-align: top;\n",
       "    }\n",
       "\n",
       "    .dataframe thead th {\n",
       "        text-align: right;\n",
       "    }\n",
       "</style>\n",
       "<table border=\"1\" class=\"dataframe\">\n",
       "  <thead>\n",
       "    <tr style=\"text-align: right;\">\n",
       "      <th></th>\n",
       "      <th>Name</th>\n",
       "      <th>Location</th>\n",
       "      <th>Year</th>\n",
       "      <th>Kilometers_Driven</th>\n",
       "      <th>Fuel_Type</th>\n",
       "      <th>Transmission</th>\n",
       "      <th>Owner_Type</th>\n",
       "      <th>Mileage</th>\n",
       "      <th>Engine</th>\n",
       "      <th>Power</th>\n",
       "      <th>Colour</th>\n",
       "      <th>Seats</th>\n",
       "      <th>No. of Doors</th>\n",
       "      <th>Price</th>\n",
       "    </tr>\n",
       "  </thead>\n",
       "  <tbody>\n",
       "    <tr>\n",
       "      <th>0</th>\n",
       "      <td>Mahindra Scorpio</td>\n",
       "      <td>Pune</td>\n",
       "      <td>2012.00000</td>\n",
       "      <td>99000.00000</td>\n",
       "      <td>Diesel</td>\n",
       "      <td>Manual</td>\n",
       "      <td>Third</td>\n",
       "      <td>12.05 kmpl</td>\n",
       "      <td>2179 CC</td>\n",
       "      <td>120 bhp</td>\n",
       "      <td>Black/Silver</td>\n",
       "      <td>8.00000</td>\n",
       "      <td>5.00000</td>\n",
       "      <td>6.00000</td>\n",
       "    </tr>\n",
       "    <tr>\n",
       "      <th>1</th>\n",
       "      <td>Maruti Baleno</td>\n",
       "      <td>Kochi</td>\n",
       "      <td>2018.00000</td>\n",
       "      <td>18678.00000</td>\n",
       "      <td>Petrol</td>\n",
       "      <td>Manual</td>\n",
       "      <td>First</td>\n",
       "      <td>21.1 kmpl</td>\n",
       "      <td>998 CC</td>\n",
       "      <td>100 bhp</td>\n",
       "      <td>Others</td>\n",
       "      <td>5.00000</td>\n",
       "      <td>4.00000</td>\n",
       "      <td>8.32000</td>\n",
       "    </tr>\n",
       "    <tr>\n",
       "      <th>2</th>\n",
       "      <td>Mahindra Xylo</td>\n",
       "      <td>Bangalore</td>\n",
       "      <td>2013.00000</td>\n",
       "      <td>197000.00000</td>\n",
       "      <td>Diesel</td>\n",
       "      <td>Manual</td>\n",
       "      <td>First</td>\n",
       "      <td>11.68 kmpl</td>\n",
       "      <td>2498 CC</td>\n",
       "      <td>112 bhp</td>\n",
       "      <td>White</td>\n",
       "      <td>7.00000</td>\n",
       "      <td>5.00000</td>\n",
       "      <td>4.00000</td>\n",
       "    </tr>\n",
       "    <tr>\n",
       "      <th>3</th>\n",
       "      <td>Hyundai Grand</td>\n",
       "      <td>Delhi</td>\n",
       "      <td>2014.00000</td>\n",
       "      <td>45000.00000</td>\n",
       "      <td>Diesel</td>\n",
       "      <td>Manual</td>\n",
       "      <td>First</td>\n",
       "      <td>24.0 kmpl</td>\n",
       "      <td>1120 CC</td>\n",
       "      <td>70 bhp</td>\n",
       "      <td>White</td>\n",
       "      <td>5.00000</td>\n",
       "      <td>4.00000</td>\n",
       "      <td>3.49000</td>\n",
       "    </tr>\n",
       "    <tr>\n",
       "      <th>4</th>\n",
       "      <td>Toyota Innova</td>\n",
       "      <td>Delhi</td>\n",
       "      <td>2011.00000</td>\n",
       "      <td>65000.00000</td>\n",
       "      <td>Diesel</td>\n",
       "      <td>Manual</td>\n",
       "      <td>First</td>\n",
       "      <td>12.8 kmpl</td>\n",
       "      <td>2494 CC</td>\n",
       "      <td>102 bhp</td>\n",
       "      <td>Others</td>\n",
       "      <td>8.00000</td>\n",
       "      <td>5.00000</td>\n",
       "      <td>6.40000</td>\n",
       "    </tr>\n",
       "  </tbody>\n",
       "</table>\n",
       "</div>"
      ],
      "text/plain": [
       "               Name   Location       Year  Kilometers_Driven Fuel_Type  \\\n",
       "0  Mahindra Scorpio       Pune 2012.00000        99000.00000    Diesel   \n",
       "1     Maruti Baleno      Kochi 2018.00000        18678.00000    Petrol   \n",
       "2     Mahindra Xylo  Bangalore 2013.00000       197000.00000    Diesel   \n",
       "3     Hyundai Grand      Delhi 2014.00000        45000.00000    Diesel   \n",
       "4     Toyota Innova      Delhi 2011.00000        65000.00000    Diesel   \n",
       "\n",
       "  Transmission Owner_Type     Mileage   Engine    Power        Colour   Seats  \\\n",
       "0       Manual      Third  12.05 kmpl  2179 CC  120 bhp  Black/Silver 8.00000   \n",
       "1       Manual      First   21.1 kmpl   998 CC  100 bhp        Others 5.00000   \n",
       "2       Manual      First  11.68 kmpl  2498 CC  112 bhp         White 7.00000   \n",
       "3       Manual      First   24.0 kmpl  1120 CC   70 bhp         White 5.00000   \n",
       "4       Manual      First   12.8 kmpl  2494 CC  102 bhp        Others 8.00000   \n",
       "\n",
       "   No. of Doors   Price  \n",
       "0       5.00000 6.00000  \n",
       "1       4.00000 8.32000  \n",
       "2       5.00000 4.00000  \n",
       "3       4.00000 3.49000  \n",
       "4       5.00000 6.40000  "
      ]
     },
     "execution_count": 14,
     "metadata": {},
     "output_type": "execute_result"
    }
   ],
   "source": [
    "cars.head()"
   ]
  },
  {
   "cell_type": "markdown",
   "metadata": {},
   "source": [
    "**Check for Duplicates**"
   ]
  },
  {
   "cell_type": "code",
   "execution_count": 12,
   "metadata": {
    "ExecuteTime": {
     "end_time": "2021-11-20T14:29:58.307080Z",
     "start_time": "2021-11-20T14:29:58.284140Z"
    }
   },
   "outputs": [
    {
     "data": {
      "text/plain": [
       "2"
      ]
     },
     "execution_count": 12,
     "metadata": {},
     "output_type": "execute_result"
    }
   ],
   "source": [
    "cars.duplicated().sum()\n",
    "\n",
    "# 3%"
   ]
  },
  {
   "cell_type": "code",
   "execution_count": 13,
   "metadata": {
    "ExecuteTime": {
     "end_time": "2021-11-20T14:30:22.149459Z",
     "start_time": "2021-11-20T14:30:22.122597Z"
    }
   },
   "outputs": [],
   "source": [
    "cars.drop_duplicates(inplace=True)"
   ]
  },
  {
   "cell_type": "markdown",
   "metadata": {},
   "source": [
    "**Check for Object Data Type**"
   ]
  },
  {
   "cell_type": "code",
   "execution_count": null,
   "metadata": {},
   "outputs": [],
   "source": [
    "cars.select_dtypes(include='object').head()"
   ]
  },
  {
   "cell_type": "markdown",
   "metadata": {},
   "source": [
    "- It seems that the columns Mileage, Engine , Power needs to be cleaned and converted to Float/int dtype"
   ]
  },
  {
   "cell_type": "code",
   "execution_count": 15,
   "metadata": {
    "ExecuteTime": {
     "end_time": "2021-11-20T14:32:51.754907Z",
     "start_time": "2021-11-20T14:32:51.721000Z"
    },
    "colab": {},
    "colab_type": "code",
    "id": "r5FxLpsGFlN1"
   },
   "outputs": [],
   "source": [
    "cars['Mileage'] = cars['Mileage'].str.replace(',','').str.replace('kmpl','').str.replace('km/kg','').astype('float')"
   ]
  },
  {
   "cell_type": "code",
   "execution_count": 16,
   "metadata": {
    "ExecuteTime": {
     "end_time": "2021-11-20T14:33:04.563602Z",
     "start_time": "2021-11-20T14:33:04.538669Z"
    },
    "colab": {},
    "colab_type": "code",
    "id": "t6om6y2HFuX1"
   },
   "outputs": [],
   "source": [
    "cars['Engine'] = cars['Engine'].str.replace(',','').str.replace('CC','').astype('float')"
   ]
  },
  {
   "cell_type": "code",
   "execution_count": 17,
   "metadata": {
    "ExecuteTime": {
     "end_time": "2021-11-20T14:33:05.160378Z",
     "start_time": "2021-11-20T14:33:05.124476Z"
    },
    "colab": {},
    "colab_type": "code",
    "id": "uHMSmRm_F3kE"
   },
   "outputs": [],
   "source": [
    "cars['Power'] = cars['Power'].replace('null bhp', 0)\n",
    "cars['Power'] = cars['Power'].str.replace(',','').str.replace('bhp','').astype('float')"
   ]
  },
  {
   "cell_type": "code",
   "execution_count": 18,
   "metadata": {
    "ExecuteTime": {
     "end_time": "2021-11-20T14:33:07.884051Z",
     "start_time": "2021-11-20T14:33:07.852132Z"
    }
   },
   "outputs": [
    {
     "data": {
      "text/html": [
       "<div>\n",
       "<style scoped>\n",
       "    .dataframe tbody tr th:only-of-type {\n",
       "        vertical-align: middle;\n",
       "    }\n",
       "\n",
       "    .dataframe tbody tr th {\n",
       "        vertical-align: top;\n",
       "    }\n",
       "\n",
       "    .dataframe thead th {\n",
       "        text-align: right;\n",
       "    }\n",
       "</style>\n",
       "<table border=\"1\" class=\"dataframe\">\n",
       "  <thead>\n",
       "    <tr style=\"text-align: right;\">\n",
       "      <th></th>\n",
       "      <th>Name</th>\n",
       "      <th>Location</th>\n",
       "      <th>Fuel_Type</th>\n",
       "      <th>Transmission</th>\n",
       "      <th>Owner_Type</th>\n",
       "      <th>Colour</th>\n",
       "    </tr>\n",
       "  </thead>\n",
       "  <tbody>\n",
       "    <tr>\n",
       "      <th>0</th>\n",
       "      <td>Mahindra Scorpio</td>\n",
       "      <td>Pune</td>\n",
       "      <td>Diesel</td>\n",
       "      <td>Manual</td>\n",
       "      <td>Third</td>\n",
       "      <td>Black/Silver</td>\n",
       "    </tr>\n",
       "    <tr>\n",
       "      <th>1</th>\n",
       "      <td>Maruti Baleno</td>\n",
       "      <td>Kochi</td>\n",
       "      <td>Petrol</td>\n",
       "      <td>Manual</td>\n",
       "      <td>First</td>\n",
       "      <td>Others</td>\n",
       "    </tr>\n",
       "    <tr>\n",
       "      <th>2</th>\n",
       "      <td>Mahindra Xylo</td>\n",
       "      <td>Bangalore</td>\n",
       "      <td>Diesel</td>\n",
       "      <td>Manual</td>\n",
       "      <td>First</td>\n",
       "      <td>White</td>\n",
       "    </tr>\n",
       "    <tr>\n",
       "      <th>3</th>\n",
       "      <td>Hyundai Grand</td>\n",
       "      <td>Delhi</td>\n",
       "      <td>Diesel</td>\n",
       "      <td>Manual</td>\n",
       "      <td>First</td>\n",
       "      <td>White</td>\n",
       "    </tr>\n",
       "    <tr>\n",
       "      <th>4</th>\n",
       "      <td>Toyota Innova</td>\n",
       "      <td>Delhi</td>\n",
       "      <td>Diesel</td>\n",
       "      <td>Manual</td>\n",
       "      <td>First</td>\n",
       "      <td>Others</td>\n",
       "    </tr>\n",
       "  </tbody>\n",
       "</table>\n",
       "</div>"
      ],
      "text/plain": [
       "               Name   Location Fuel_Type Transmission Owner_Type        Colour\n",
       "0  Mahindra Scorpio       Pune    Diesel       Manual      Third  Black/Silver\n",
       "1     Maruti Baleno      Kochi    Petrol       Manual      First        Others\n",
       "2     Mahindra Xylo  Bangalore    Diesel       Manual      First         White\n",
       "3     Hyundai Grand      Delhi    Diesel       Manual      First         White\n",
       "4     Toyota Innova      Delhi    Diesel       Manual      First        Others"
      ]
     },
     "execution_count": 18,
     "metadata": {},
     "output_type": "execute_result"
    }
   ],
   "source": [
    "cars.select_dtypes(include='object').head()"
   ]
  },
  {
   "cell_type": "markdown",
   "metadata": {},
   "source": [
    "**Create a new column 'Brand' which has the brand name of the Cars**"
   ]
  },
  {
   "cell_type": "code",
   "execution_count": 19,
   "metadata": {
    "ExecuteTime": {
     "end_time": "2021-11-20T14:44:23.307856Z",
     "start_time": "2021-11-20T14:44:23.285883Z"
    },
    "scrolled": true
   },
   "outputs": [],
   "source": [
    "cars['Brand']=cars.Name.apply(lambda x:x.split(' ')[0])"
   ]
  },
  {
   "cell_type": "code",
   "execution_count": 20,
   "metadata": {
    "ExecuteTime": {
     "end_time": "2021-11-20T14:44:24.714163Z",
     "start_time": "2021-11-20T14:44:24.696210Z"
    }
   },
   "outputs": [
    {
     "data": {
      "text/plain": [
       "Maruti           1187\n",
       "Hyundai          1100\n",
       "Honda             601\n",
       "Toyota            410\n",
       "Mercedes-Benz     318\n",
       "Volkswagen        315\n",
       "Ford              298\n",
       "Mahindra          272\n",
       "BMW               267\n",
       "Audi              236\n",
       "Tata              184\n",
       "Skoda             173\n",
       "Renault           143\n",
       "Chevrolet         113\n",
       "Nissan             91\n",
       "Land               57\n",
       "Jaguar             40\n",
       "Mitsubishi         27\n",
       "Mini               26\n",
       "Fiat               25\n",
       "Volvo              21\n",
       "Porsche            18\n",
       "Jeep               15\n",
       "Datsun             13\n",
       "Force               3\n",
       "ISUZU               2\n",
       "Isuzu               1\n",
       "Smart               1\n",
       "Lamborghini         1\n",
       "Bentley             1\n",
       "Name: Brand, dtype: int64"
      ]
     },
     "execution_count": 20,
     "metadata": {},
     "output_type": "execute_result"
    }
   ],
   "source": [
    "cars.Brand.value_counts()"
   ]
  },
  {
   "cell_type": "markdown",
   "metadata": {},
   "source": [
    "- Brand Isuzu is available twice in different cases ('ISUZU', 'Isuzu'). To avoid this being considered as 2 different brands, correct to single format"
   ]
  },
  {
   "cell_type": "code",
   "execution_count": 21,
   "metadata": {
    "ExecuteTime": {
     "end_time": "2021-11-20T14:45:43.909191Z",
     "start_time": "2021-11-20T14:45:43.886255Z"
    }
   },
   "outputs": [],
   "source": [
    "cars['Brand'] = cars['Brand'].str.replace('ISUZU', 'Isuzu')"
   ]
  },
  {
   "cell_type": "markdown",
   "metadata": {},
   "source": [
    "**Create a new column 'Model' which has the Model name of the Cars**"
   ]
  },
  {
   "cell_type": "code",
   "execution_count": 22,
   "metadata": {
    "ExecuteTime": {
     "end_time": "2021-11-20T14:46:01.056439Z",
     "start_time": "2021-11-20T14:46:01.043475Z"
    }
   },
   "outputs": [],
   "source": [
    "cars['Model']=cars.Name.apply(lambda x: ' '.join(x.split(' ')[1:]))"
   ]
  },
  {
   "cell_type": "code",
   "execution_count": 23,
   "metadata": {
    "ExecuteTime": {
     "end_time": "2021-11-20T14:46:01.835445Z",
     "start_time": "2021-11-20T14:46:01.815495Z"
    }
   },
   "outputs": [
    {
     "data": {
      "text/plain": [
       "1                     3\n",
       "1000                  1\n",
       "3                    98\n",
       "5                    68\n",
       "6                     7\n",
       "7                    13\n",
       "800                  12\n",
       "A                     8\n",
       "A-Star               17\n",
       "A3                    4\n",
       "A4                   78\n",
       "A6                   49\n",
       "A7                    3\n",
       "A8                    2\n",
       "Accent               18\n",
       "Accord               26\n",
       "Alto                142\n",
       "Amaze               106\n",
       "Ameo                 19\n",
       "Aspire                4\n",
       "Aveo                 14\n",
       "Avventura             4\n",
       "B                    12\n",
       "BR-V                  3\n",
       "BRV                   5\n",
       "Baleno               62\n",
       "Beat                 46\n",
       "Beetle                1\n",
       "Bolero               15\n",
       "Bolt                  4\n",
       "Boxster               1\n",
       "Brio                 60\n",
       "C-Class               3\n",
       "CLA                  13\n",
       "CLS-Class             1\n",
       "CR-V                 26\n",
       "Camry                11\n",
       "Captiva               2\n",
       "Captur                3\n",
       "Cayenne               7\n",
       "Cayman                2\n",
       "Cedia                 2\n",
       "Celerio              58\n",
       "Ciaz                 71\n",
       "City                265\n",
       "Civic                32\n",
       "Classic               1\n",
       "Clubman               1\n",
       "Compass              15\n",
       "Continental           1\n",
       "Cooper               24\n",
       "Corolla              68\n",
       "Countryman            1\n",
       "Creta                93\n",
       "CrossPolo             4\n",
       "Cruze                18\n",
       "D-MAX                 2\n",
       "Duster               83\n",
       "Dzire                24\n",
       "E                     1\n",
       "E-Class              88\n",
       "EON                  61\n",
       "EcoSport             42\n",
       "Ecosport             53\n",
       "Eeco                 18\n",
       "Elantra              22\n",
       "Elite                14\n",
       "Endeavour            38\n",
       "Enjoy                 3\n",
       "Ertiga               75\n",
       "Esteem                5\n",
       "Etios                60\n",
       "Evalia                1\n",
       "F                     1\n",
       "Fabia                11\n",
       "Fiesta               40\n",
       "Figo                100\n",
       "Fluence               4\n",
       "Fortuner            101\n",
       "Fortwo                1\n",
       "Freestyle             3\n",
       "Fusion                1\n",
       "GL-Class             11\n",
       "GLA                  18\n",
       "GLC                   8\n",
       "GLE                  12\n",
       "GLS                   2\n",
       "GO                    6\n",
       "Gallardo              1\n",
       "Getz                 10\n",
       "Grand               156\n",
       "Grande                5\n",
       "Hexa                  4\n",
       "Ignis                 6\n",
       "Ikon                 15\n",
       "Indica               40\n",
       "Indigo               31\n",
       "Innova              164\n",
       "Jazz                 57\n",
       "Jeep                  2\n",
       "Jetta                24\n",
       "KUV                  14\n",
       "KWID                 40\n",
       "Koleos                3\n",
       "Lancer                2\n",
       "Laura                29\n",
       "Linea                12\n",
       "Logan                 2\n",
       "M-Class              23\n",
       "MUX                   1\n",
       "Manza                16\n",
       "Micra                33\n",
       "Mobilio              16\n",
       "Montero               1\n",
       "Mustang               1\n",
       "Nano                 25\n",
       "New                 102\n",
       "Nexon                 3\n",
       "NuvoSport             3\n",
       "Octavia              31\n",
       "Omni                 13\n",
       "One                   3\n",
       "Optra                12\n",
       "Outlander             2\n",
       "Pajero               20\n",
       "Panamera              8\n",
       "Passat                8\n",
       "Petra                 1\n",
       "Platinum              1\n",
       "Polo                151\n",
       "Prius                 1\n",
       "Pulse                 5\n",
       "Punto                 2\n",
       "Q3                   27\n",
       "Q5                   30\n",
       "Q7                   38\n",
       "Qualis                4\n",
       "Quanto                5\n",
       "R-Class               4\n",
       "RS5                   2\n",
       "Rapid                47\n",
       "Redi                  1\n",
       "Renault               2\n",
       "Ritz                 64\n",
       "Rover Discovery      12\n",
       "Rover Freelander     17\n",
       "Rover Range          28\n",
       "S                    17\n",
       "S-Class               5\n",
       "S-Cross               3\n",
       "S60                   7\n",
       "S80                   2\n",
       "SL-Class              1\n",
       "SLC                   2\n",
       "SLK-Class             3\n",
       "SX4                  37\n",
       "Safari                9\n",
       "Sail                  8\n",
       "Santa                17\n",
       "Santro               71\n",
       "Scala                 5\n",
       "Scorpio              61\n",
       "Siena                 1\n",
       "Sonata                6\n",
       "Spark                10\n",
       "Ssangyong            13\n",
       "Sumo                  4\n",
       "Sunny                26\n",
       "Superb               49\n",
       "Swift               343\n",
       "TT                    3\n",
       "TUV                   9\n",
       "Teana                 2\n",
       "Terrano              26\n",
       "Thar                  6\n",
       "Tiago                11\n",
       "Tigor                 5\n",
       "Tiguan                1\n",
       "Tucson                4\n",
       "V40                   4\n",
       "Vento               107\n",
       "Verito                4\n",
       "Verna               170\n",
       "Vitara               43\n",
       "WR-V                  1\n",
       "WRV                   4\n",
       "Wagon               153\n",
       "X-Trail               3\n",
       "X1                   32\n",
       "X3                   14\n",
       "X5                   24\n",
       "X6                    6\n",
       "XC60                  6\n",
       "XC90                  2\n",
       "XE                    3\n",
       "XF                   30\n",
       "XJ                    6\n",
       "XUV300                1\n",
       "XUV500              113\n",
       "Xcent                59\n",
       "Xenon                 3\n",
       "Xylo                 21\n",
       "Yeti                  6\n",
       "Z4                    2\n",
       "Zen                  29\n",
       "Zest                 21\n",
       "i10                 156\n",
       "i20                 247\n",
       "redi-GO               6\n",
       "Name: Model, dtype: int64"
      ]
     },
     "execution_count": 23,
     "metadata": {},
     "output_type": "execute_result"
    }
   ],
   "source": [
    "pd.options.display.max_rows=300\n",
    "cars['Model'].value_counts().sort_index(ascending=True)"
   ]
  },
  {
   "cell_type": "markdown",
   "metadata": {},
   "source": [
    "- Model Ecosport is available twice in different cases ('Ecosport', 'EcoSport'). To avoid this being considered as 2 different models, correct to single format."
   ]
  },
  {
   "cell_type": "code",
   "execution_count": null,
   "metadata": {},
   "outputs": [],
   "source": [
    "cars['Model'] = cars['Model'].str.replace('EcoSport', 'Ecosport')"
   ]
  },
  {
   "cell_type": "code",
   "execution_count": null,
   "metadata": {},
   "outputs": [],
   "source": [
    "plt.figure(figsize=(12,7))\n",
    "sns.countplot(y=(cars.Brand),palette='PuRd_r');"
   ]
  },
  {
   "cell_type": "code",
   "execution_count": null,
   "metadata": {},
   "outputs": [],
   "source": [
    "plt.figure(figsize=(12,7))\n",
    "sns.barplot(y=cars.Model.value_counts()[cars.Model.value_counts()>90].index,\n",
    "            x=cars.Model.value_counts()[cars.Model.value_counts()>90].values,palette='PuRd_r');"
   ]
  },
  {
   "cell_type": "markdown",
   "metadata": {},
   "source": [
    "- There is a car by the Model name 'New', let's check which car is it\n",
    "- There is a car by the Model name '3', let's check which car is it\n"
   ]
  },
  {
   "cell_type": "code",
   "execution_count": 25,
   "metadata": {
    "ExecuteTime": {
     "end_time": "2021-11-20T14:47:56.097138Z",
     "start_time": "2021-11-20T14:47:56.066220Z"
    }
   },
   "outputs": [
    {
     "data": {
      "text/html": [
       "<div>\n",
       "<style scoped>\n",
       "    .dataframe tbody tr th:only-of-type {\n",
       "        vertical-align: middle;\n",
       "    }\n",
       "\n",
       "    .dataframe tbody tr th {\n",
       "        vertical-align: top;\n",
       "    }\n",
       "\n",
       "    .dataframe thead th {\n",
       "        text-align: right;\n",
       "    }\n",
       "</style>\n",
       "<table border=\"1\" class=\"dataframe\">\n",
       "  <thead>\n",
       "    <tr style=\"text-align: right;\">\n",
       "      <th></th>\n",
       "      <th>Name</th>\n",
       "      <th>Location</th>\n",
       "      <th>Year</th>\n",
       "      <th>Kilometers_Driven</th>\n",
       "      <th>Fuel_Type</th>\n",
       "      <th>Transmission</th>\n",
       "      <th>Owner_Type</th>\n",
       "      <th>Mileage</th>\n",
       "      <th>Engine</th>\n",
       "      <th>Power</th>\n",
       "      <th>Colour</th>\n",
       "      <th>Seats</th>\n",
       "      <th>No. of Doors</th>\n",
       "      <th>Price</th>\n",
       "      <th>Brand</th>\n",
       "      <th>Model</th>\n",
       "    </tr>\n",
       "  </thead>\n",
       "  <tbody>\n",
       "    <tr>\n",
       "      <th>71</th>\n",
       "      <td>Mercedes-Benz New</td>\n",
       "      <td>Hyderabad</td>\n",
       "      <td>2012.00000</td>\n",
       "      <td>86000.00000</td>\n",
       "      <td>Diesel</td>\n",
       "      <td>Automatic</td>\n",
       "      <td>First</td>\n",
       "      <td>14.84000</td>\n",
       "      <td>2143.00000</td>\n",
       "      <td>170.00000</td>\n",
       "      <td>White</td>\n",
       "      <td>5.00000</td>\n",
       "      <td>4.00000</td>\n",
       "      <td>19.00000</td>\n",
       "      <td>Mercedes-Benz</td>\n",
       "      <td>New</td>\n",
       "    </tr>\n",
       "    <tr>\n",
       "      <th>279</th>\n",
       "      <td>Mercedes-Benz New</td>\n",
       "      <td>Jaipur</td>\n",
       "      <td>2009.00000</td>\n",
       "      <td>116000.00000</td>\n",
       "      <td>Diesel</td>\n",
       "      <td>Manual</td>\n",
       "      <td>Second</td>\n",
       "      <td>15.80000</td>\n",
       "      <td>2148.00000</td>\n",
       "      <td>170.00000</td>\n",
       "      <td>White</td>\n",
       "      <td>5.00000</td>\n",
       "      <td>4.00000</td>\n",
       "      <td>8.50000</td>\n",
       "      <td>Mercedes-Benz</td>\n",
       "      <td>New</td>\n",
       "    </tr>\n",
       "  </tbody>\n",
       "</table>\n",
       "</div>"
      ],
      "text/plain": [
       "                  Name   Location       Year  Kilometers_Driven Fuel_Type  \\\n",
       "71   Mercedes-Benz New  Hyderabad 2012.00000        86000.00000    Diesel   \n",
       "279  Mercedes-Benz New     Jaipur 2009.00000       116000.00000    Diesel   \n",
       "\n",
       "    Transmission Owner_Type  Mileage     Engine     Power Colour   Seats  \\\n",
       "71     Automatic      First 14.84000 2143.00000 170.00000  White 5.00000   \n",
       "279       Manual     Second 15.80000 2148.00000 170.00000  White 5.00000   \n",
       "\n",
       "     No. of Doors    Price          Brand Model  \n",
       "71        4.00000 19.00000  Mercedes-Benz   New  \n",
       "279       4.00000  8.50000  Mercedes-Benz   New  "
      ]
     },
     "execution_count": 25,
     "metadata": {},
     "output_type": "execute_result"
    }
   ],
   "source": [
    "cars[cars['Model']=='New'].head(2) # so it is a Mercedes Benz"
   ]
  },
  {
   "cell_type": "code",
   "execution_count": 24,
   "metadata": {
    "ExecuteTime": {
     "end_time": "2021-11-20T14:47:51.685727Z",
     "start_time": "2021-11-20T14:47:51.658800Z"
    },
    "scrolled": true
   },
   "outputs": [
    {
     "data": {
      "text/html": [
       "<div>\n",
       "<style scoped>\n",
       "    .dataframe tbody tr th:only-of-type {\n",
       "        vertical-align: middle;\n",
       "    }\n",
       "\n",
       "    .dataframe tbody tr th {\n",
       "        vertical-align: top;\n",
       "    }\n",
       "\n",
       "    .dataframe thead th {\n",
       "        text-align: right;\n",
       "    }\n",
       "</style>\n",
       "<table border=\"1\" class=\"dataframe\">\n",
       "  <thead>\n",
       "    <tr style=\"text-align: right;\">\n",
       "      <th></th>\n",
       "      <th>Name</th>\n",
       "      <th>Location</th>\n",
       "      <th>Year</th>\n",
       "      <th>Kilometers_Driven</th>\n",
       "      <th>Fuel_Type</th>\n",
       "      <th>Transmission</th>\n",
       "      <th>Owner_Type</th>\n",
       "      <th>Mileage</th>\n",
       "      <th>Engine</th>\n",
       "      <th>Power</th>\n",
       "      <th>Colour</th>\n",
       "      <th>Seats</th>\n",
       "      <th>No. of Doors</th>\n",
       "      <th>Price</th>\n",
       "      <th>Brand</th>\n",
       "      <th>Model</th>\n",
       "    </tr>\n",
       "  </thead>\n",
       "  <tbody>\n",
       "    <tr>\n",
       "      <th>22</th>\n",
       "      <td>BMW 3</td>\n",
       "      <td>Mumbai</td>\n",
       "      <td>2014.00000</td>\n",
       "      <td>48000.00000</td>\n",
       "      <td>Diesel</td>\n",
       "      <td>Automatic</td>\n",
       "      <td>First</td>\n",
       "      <td>21.76000</td>\n",
       "      <td>1995.00000</td>\n",
       "      <td>190.00000</td>\n",
       "      <td>Others</td>\n",
       "      <td>5.00000</td>\n",
       "      <td>4.00000</td>\n",
       "      <td>26.50000</td>\n",
       "      <td>BMW</td>\n",
       "      <td>3</td>\n",
       "    </tr>\n",
       "    <tr>\n",
       "      <th>35</th>\n",
       "      <td>BMW 3</td>\n",
       "      <td>Chennai</td>\n",
       "      <td>2009.00000</td>\n",
       "      <td>137000.00000</td>\n",
       "      <td>Diesel</td>\n",
       "      <td>Automatic</td>\n",
       "      <td>Second</td>\n",
       "      <td>13.20000</td>\n",
       "      <td>1995.00000</td>\n",
       "      <td>170.00000</td>\n",
       "      <td>Others</td>\n",
       "      <td>5.00000</td>\n",
       "      <td>4.00000</td>\n",
       "      <td>9.00000</td>\n",
       "      <td>BMW</td>\n",
       "      <td>3</td>\n",
       "    </tr>\n",
       "  </tbody>\n",
       "</table>\n",
       "</div>"
      ],
      "text/plain": [
       "     Name Location       Year  Kilometers_Driven Fuel_Type Transmission  \\\n",
       "22  BMW 3   Mumbai 2014.00000        48000.00000    Diesel    Automatic   \n",
       "35  BMW 3  Chennai 2009.00000       137000.00000    Diesel    Automatic   \n",
       "\n",
       "   Owner_Type  Mileage     Engine     Power  Colour   Seats  No. of Doors  \\\n",
       "22      First 21.76000 1995.00000 190.00000  Others 5.00000       4.00000   \n",
       "35     Second 13.20000 1995.00000 170.00000  Others 5.00000       4.00000   \n",
       "\n",
       "      Price Brand Model  \n",
       "22 26.50000   BMW     3  \n",
       "35  9.00000   BMW     3  "
      ]
     },
     "execution_count": 24,
     "metadata": {},
     "output_type": "execute_result"
    }
   ],
   "source": [
    "cars[cars['Model']=='3'].head(2) # so it is a BMW"
   ]
  },
  {
   "cell_type": "markdown",
   "metadata": {},
   "source": [
    "**Bin the cars as per average Price of the Brand**\n",
    "- 'Budget_Friendly'\n",
    "- 'Medium_Range'\n",
    "- 'TopNotch_Cars'"
   ]
  },
  {
   "cell_type": "code",
   "execution_count": null,
   "metadata": {},
   "outputs": [],
   "source": [
    "cars.Price.describe()"
   ]
  },
  {
   "cell_type": "code",
   "execution_count": 26,
   "metadata": {
    "ExecuteTime": {
     "end_time": "2021-11-20T14:49:46.458034Z",
     "start_time": "2021-11-20T14:49:46.434099Z"
    }
   },
   "outputs": [
    {
     "data": {
      "text/plain": [
       "Brand\n",
       "Audi             25.13136\n",
       "BMW              24.82397\n",
       "Bentley          59.00000\n",
       "Chevrolet         2.45133\n",
       "Datsun            2.53846\n",
       "Fiat              2.80000\n",
       "Force             9.33333\n",
       "Ford              6.42953\n",
       "Honda             4.93511\n",
       "Hyundai           4.86182\n",
       "Isuzu            14.66667\n",
       "Jaguar           37.30000\n",
       "Jeep             18.33333\n",
       "Lamborghini     120.00000\n",
       "Land             39.45614\n",
       "Mahindra          7.61029\n",
       "Maruti            4.05897\n",
       "Mercedes-Benz    26.43396\n",
       "Mini             26.53846\n",
       "Mitsubishi       10.62963\n",
       "Nissan            4.27473\n",
       "Porsche          48.05556\n",
       "Renault           5.30769\n",
       "Skoda             7.07514\n",
       "Smart             3.00000\n",
       "Tata              3.06522\n",
       "Toyota           11.13171\n",
       "Volkswagen        4.79048\n",
       "Volvo            18.52381\n",
       "Name: Price, dtype: float64"
      ]
     },
     "execution_count": 26,
     "metadata": {},
     "output_type": "execute_result"
    }
   ],
   "source": [
    "#Binning the Car Companies based on avg prices of each car Company.\n",
    "cars['Price'] = cars['Price'].astype('int')\n",
    "cars_2 = cars.copy()\n",
    "t = cars_2.groupby(['Brand'])['Price'].mean()\n",
    "t"
   ]
  },
  {
   "cell_type": "code",
   "execution_count": 33,
   "metadata": {
    "ExecuteTime": {
     "end_time": "2021-11-20T14:59:40.637936Z",
     "start_time": "2021-11-20T14:59:40.619983Z"
    },
    "scrolled": true
   },
   "outputs": [
    {
     "data": {
      "text/html": [
       "<div>\n",
       "<style scoped>\n",
       "    .dataframe tbody tr th:only-of-type {\n",
       "        vertical-align: middle;\n",
       "    }\n",
       "\n",
       "    .dataframe tbody tr th {\n",
       "        vertical-align: top;\n",
       "    }\n",
       "\n",
       "    .dataframe thead th {\n",
       "        text-align: right;\n",
       "    }\n",
       "</style>\n",
       "<table border=\"1\" class=\"dataframe\">\n",
       "  <thead>\n",
       "    <tr style=\"text-align: right;\">\n",
       "      <th></th>\n",
       "      <th>Brand</th>\n",
       "      <th>Price</th>\n",
       "    </tr>\n",
       "  </thead>\n",
       "  <tbody>\n",
       "    <tr>\n",
       "      <th>0</th>\n",
       "      <td>Audi</td>\n",
       "      <td>25.13136</td>\n",
       "    </tr>\n",
       "    <tr>\n",
       "      <th>1</th>\n",
       "      <td>BMW</td>\n",
       "      <td>24.82397</td>\n",
       "    </tr>\n",
       "    <tr>\n",
       "      <th>2</th>\n",
       "      <td>Bentley</td>\n",
       "      <td>59.00000</td>\n",
       "    </tr>\n",
       "    <tr>\n",
       "      <th>3</th>\n",
       "      <td>Chevrolet</td>\n",
       "      <td>2.45133</td>\n",
       "    </tr>\n",
       "    <tr>\n",
       "      <th>4</th>\n",
       "      <td>Datsun</td>\n",
       "      <td>2.53846</td>\n",
       "    </tr>\n",
       "    <tr>\n",
       "      <th>5</th>\n",
       "      <td>Fiat</td>\n",
       "      <td>2.80000</td>\n",
       "    </tr>\n",
       "    <tr>\n",
       "      <th>6</th>\n",
       "      <td>Force</td>\n",
       "      <td>9.33333</td>\n",
       "    </tr>\n",
       "    <tr>\n",
       "      <th>7</th>\n",
       "      <td>Ford</td>\n",
       "      <td>6.42953</td>\n",
       "    </tr>\n",
       "    <tr>\n",
       "      <th>8</th>\n",
       "      <td>Honda</td>\n",
       "      <td>4.93511</td>\n",
       "    </tr>\n",
       "    <tr>\n",
       "      <th>9</th>\n",
       "      <td>Hyundai</td>\n",
       "      <td>4.86182</td>\n",
       "    </tr>\n",
       "    <tr>\n",
       "      <th>10</th>\n",
       "      <td>Isuzu</td>\n",
       "      <td>14.66667</td>\n",
       "    </tr>\n",
       "    <tr>\n",
       "      <th>11</th>\n",
       "      <td>Jaguar</td>\n",
       "      <td>37.30000</td>\n",
       "    </tr>\n",
       "    <tr>\n",
       "      <th>12</th>\n",
       "      <td>Jeep</td>\n",
       "      <td>18.33333</td>\n",
       "    </tr>\n",
       "    <tr>\n",
       "      <th>13</th>\n",
       "      <td>Lamborghini</td>\n",
       "      <td>120.00000</td>\n",
       "    </tr>\n",
       "    <tr>\n",
       "      <th>14</th>\n",
       "      <td>Land</td>\n",
       "      <td>39.45614</td>\n",
       "    </tr>\n",
       "    <tr>\n",
       "      <th>15</th>\n",
       "      <td>Mahindra</td>\n",
       "      <td>7.61029</td>\n",
       "    </tr>\n",
       "    <tr>\n",
       "      <th>16</th>\n",
       "      <td>Maruti</td>\n",
       "      <td>4.05897</td>\n",
       "    </tr>\n",
       "    <tr>\n",
       "      <th>17</th>\n",
       "      <td>Mercedes-Benz</td>\n",
       "      <td>26.43396</td>\n",
       "    </tr>\n",
       "    <tr>\n",
       "      <th>18</th>\n",
       "      <td>Mini</td>\n",
       "      <td>26.53846</td>\n",
       "    </tr>\n",
       "    <tr>\n",
       "      <th>19</th>\n",
       "      <td>Mitsubishi</td>\n",
       "      <td>10.62963</td>\n",
       "    </tr>\n",
       "    <tr>\n",
       "      <th>20</th>\n",
       "      <td>Nissan</td>\n",
       "      <td>4.27473</td>\n",
       "    </tr>\n",
       "    <tr>\n",
       "      <th>21</th>\n",
       "      <td>Porsche</td>\n",
       "      <td>48.05556</td>\n",
       "    </tr>\n",
       "    <tr>\n",
       "      <th>22</th>\n",
       "      <td>Renault</td>\n",
       "      <td>5.30769</td>\n",
       "    </tr>\n",
       "    <tr>\n",
       "      <th>23</th>\n",
       "      <td>Skoda</td>\n",
       "      <td>7.07514</td>\n",
       "    </tr>\n",
       "    <tr>\n",
       "      <th>24</th>\n",
       "      <td>Smart</td>\n",
       "      <td>3.00000</td>\n",
       "    </tr>\n",
       "    <tr>\n",
       "      <th>25</th>\n",
       "      <td>Tata</td>\n",
       "      <td>3.06522</td>\n",
       "    </tr>\n",
       "    <tr>\n",
       "      <th>26</th>\n",
       "      <td>Toyota</td>\n",
       "      <td>11.13171</td>\n",
       "    </tr>\n",
       "    <tr>\n",
       "      <th>27</th>\n",
       "      <td>Volkswagen</td>\n",
       "      <td>4.79048</td>\n",
       "    </tr>\n",
       "    <tr>\n",
       "      <th>28</th>\n",
       "      <td>Volvo</td>\n",
       "      <td>18.52381</td>\n",
       "    </tr>\n",
       "  </tbody>\n",
       "</table>\n",
       "</div>"
      ],
      "text/plain": [
       "            Brand     Price\n",
       "0            Audi  25.13136\n",
       "1             BMW  24.82397\n",
       "2         Bentley  59.00000\n",
       "3       Chevrolet   2.45133\n",
       "4          Datsun   2.53846\n",
       "5            Fiat   2.80000\n",
       "6           Force   9.33333\n",
       "7            Ford   6.42953\n",
       "8           Honda   4.93511\n",
       "9         Hyundai   4.86182\n",
       "10          Isuzu  14.66667\n",
       "11         Jaguar  37.30000\n",
       "12           Jeep  18.33333\n",
       "13    Lamborghini 120.00000\n",
       "14           Land  39.45614\n",
       "15       Mahindra   7.61029\n",
       "16         Maruti   4.05897\n",
       "17  Mercedes-Benz  26.43396\n",
       "18           Mini  26.53846\n",
       "19     Mitsubishi  10.62963\n",
       "20         Nissan   4.27473\n",
       "21        Porsche  48.05556\n",
       "22        Renault   5.30769\n",
       "23          Skoda   7.07514\n",
       "24          Smart   3.00000\n",
       "25           Tata   3.06522\n",
       "26         Toyota  11.13171\n",
       "27     Volkswagen   4.79048\n",
       "28          Volvo  18.52381"
      ]
     },
     "execution_count": 33,
     "metadata": {},
     "output_type": "execute_result"
    }
   ],
   "source": [
    "t.reset_index()"
   ]
  },
  {
   "cell_type": "code",
   "execution_count": 27,
   "metadata": {
    "ExecuteTime": {
     "end_time": "2021-11-20T14:50:35.902007Z",
     "start_time": "2021-11-20T14:50:35.724887Z"
    }
   },
   "outputs": [
    {
     "data": {
      "text/plain": [
       "<AxesSubplot:xlabel='Price'>"
      ]
     },
     "execution_count": 27,
     "metadata": {},
     "output_type": "execute_result"
    },
    {
     "data": {
      "image/png": "[encoded data removed]",
      "text/plain": [
       "<Figure size 432x288 with 1 Axes>"
      ]
     },
     "metadata": {
      "needs_background": "light"
     },
     "output_type": "display_data"
    }
   ],
   "source": [
    "sns.boxplot(cars[cars['Brand'] == 'Maruti'].Price)"
   ]
  },
  {
   "cell_type": "code",
   "execution_count": 34,
   "metadata": {
    "ExecuteTime": {
     "end_time": "2021-11-20T15:00:08.500138Z",
     "start_time": "2021-11-20T15:00:08.461259Z"
    }
   },
   "outputs": [
    {
     "data": {
      "text/html": [
       "<div>\n",
       "<style scoped>\n",
       "    .dataframe tbody tr th:only-of-type {\n",
       "        vertical-align: middle;\n",
       "    }\n",
       "\n",
       "    .dataframe tbody tr th {\n",
       "        vertical-align: top;\n",
       "    }\n",
       "\n",
       "    .dataframe thead th {\n",
       "        text-align: right;\n",
       "    }\n",
       "</style>\n",
       "<table border=\"1\" class=\"dataframe\">\n",
       "  <thead>\n",
       "    <tr style=\"text-align: right;\">\n",
       "      <th></th>\n",
       "      <th>Name</th>\n",
       "      <th>Location</th>\n",
       "      <th>Year</th>\n",
       "      <th>Kilometers_Driven</th>\n",
       "      <th>Fuel_Type</th>\n",
       "      <th>Transmission</th>\n",
       "      <th>Owner_Type</th>\n",
       "      <th>Mileage</th>\n",
       "      <th>Engine</th>\n",
       "      <th>Power</th>\n",
       "      <th>Colour</th>\n",
       "      <th>Seats</th>\n",
       "      <th>No. of Doors</th>\n",
       "      <th>Price_x</th>\n",
       "      <th>Brand</th>\n",
       "      <th>Model</th>\n",
       "      <th>Price_y</th>\n",
       "    </tr>\n",
       "  </thead>\n",
       "  <tbody>\n",
       "    <tr>\n",
       "      <th>0</th>\n",
       "      <td>Mahindra Scorpio</td>\n",
       "      <td>Pune</td>\n",
       "      <td>2012.00000</td>\n",
       "      <td>99000.00000</td>\n",
       "      <td>Diesel</td>\n",
       "      <td>Manual</td>\n",
       "      <td>Third</td>\n",
       "      <td>12.05000</td>\n",
       "      <td>2179.00000</td>\n",
       "      <td>120.00000</td>\n",
       "      <td>Black/Silver</td>\n",
       "      <td>8.00000</td>\n",
       "      <td>5.00000</td>\n",
       "      <td>6</td>\n",
       "      <td>Mahindra</td>\n",
       "      <td>Scorpio</td>\n",
       "      <td>7.61029</td>\n",
       "    </tr>\n",
       "    <tr>\n",
       "      <th>1</th>\n",
       "      <td>Maruti Baleno</td>\n",
       "      <td>Kochi</td>\n",
       "      <td>2018.00000</td>\n",
       "      <td>18678.00000</td>\n",
       "      <td>Petrol</td>\n",
       "      <td>Manual</td>\n",
       "      <td>First</td>\n",
       "      <td>21.10000</td>\n",
       "      <td>998.00000</td>\n",
       "      <td>100.00000</td>\n",
       "      <td>Others</td>\n",
       "      <td>5.00000</td>\n",
       "      <td>4.00000</td>\n",
       "      <td>8</td>\n",
       "      <td>Maruti</td>\n",
       "      <td>Baleno</td>\n",
       "      <td>4.05897</td>\n",
       "    </tr>\n",
       "    <tr>\n",
       "      <th>2</th>\n",
       "      <td>Mahindra Xylo</td>\n",
       "      <td>Bangalore</td>\n",
       "      <td>2013.00000</td>\n",
       "      <td>197000.00000</td>\n",
       "      <td>Diesel</td>\n",
       "      <td>Manual</td>\n",
       "      <td>First</td>\n",
       "      <td>11.68000</td>\n",
       "      <td>2498.00000</td>\n",
       "      <td>112.00000</td>\n",
       "      <td>White</td>\n",
       "      <td>7.00000</td>\n",
       "      <td>5.00000</td>\n",
       "      <td>4</td>\n",
       "      <td>Mahindra</td>\n",
       "      <td>Xylo</td>\n",
       "      <td>7.61029</td>\n",
       "    </tr>\n",
       "    <tr>\n",
       "      <th>3</th>\n",
       "      <td>Hyundai Grand</td>\n",
       "      <td>Delhi</td>\n",
       "      <td>2014.00000</td>\n",
       "      <td>45000.00000</td>\n",
       "      <td>Diesel</td>\n",
       "      <td>Manual</td>\n",
       "      <td>First</td>\n",
       "      <td>24.00000</td>\n",
       "      <td>1120.00000</td>\n",
       "      <td>70.00000</td>\n",
       "      <td>White</td>\n",
       "      <td>5.00000</td>\n",
       "      <td>4.00000</td>\n",
       "      <td>3</td>\n",
       "      <td>Hyundai</td>\n",
       "      <td>Grand</td>\n",
       "      <td>4.86182</td>\n",
       "    </tr>\n",
       "    <tr>\n",
       "      <th>4</th>\n",
       "      <td>Toyota Innova</td>\n",
       "      <td>Delhi</td>\n",
       "      <td>2011.00000</td>\n",
       "      <td>65000.00000</td>\n",
       "      <td>Diesel</td>\n",
       "      <td>Manual</td>\n",
       "      <td>First</td>\n",
       "      <td>12.80000</td>\n",
       "      <td>2494.00000</td>\n",
       "      <td>102.00000</td>\n",
       "      <td>Others</td>\n",
       "      <td>8.00000</td>\n",
       "      <td>5.00000</td>\n",
       "      <td>6</td>\n",
       "      <td>Toyota</td>\n",
       "      <td>Innova</td>\n",
       "      <td>11.13171</td>\n",
       "    </tr>\n",
       "    <tr>\n",
       "      <th>...</th>\n",
       "      <td>...</td>\n",
       "      <td>...</td>\n",
       "      <td>...</td>\n",
       "      <td>...</td>\n",
       "      <td>...</td>\n",
       "      <td>...</td>\n",
       "      <td>...</td>\n",
       "      <td>...</td>\n",
       "      <td>...</td>\n",
       "      <td>...</td>\n",
       "      <td>...</td>\n",
       "      <td>...</td>\n",
       "      <td>...</td>\n",
       "      <td>...</td>\n",
       "      <td>...</td>\n",
       "      <td>...</td>\n",
       "      <td>...</td>\n",
       "    </tr>\n",
       "    <tr>\n",
       "      <th>5954</th>\n",
       "      <td>Honda Civic</td>\n",
       "      <td>Pune</td>\n",
       "      <td>2011.00000</td>\n",
       "      <td>47000.00000</td>\n",
       "      <td>Petrol</td>\n",
       "      <td>Automatic</td>\n",
       "      <td>Second</td>\n",
       "      <td>13.90000</td>\n",
       "      <td>1799.00000</td>\n",
       "      <td>130.30000</td>\n",
       "      <td>Others</td>\n",
       "      <td>5.00000</td>\n",
       "      <td>4.00000</td>\n",
       "      <td>4</td>\n",
       "      <td>Honda</td>\n",
       "      <td>Civic</td>\n",
       "      <td>4.93511</td>\n",
       "    </tr>\n",
       "    <tr>\n",
       "      <th>5955</th>\n",
       "      <td>Hyundai i20</td>\n",
       "      <td>Delhi</td>\n",
       "      <td>2013.00000</td>\n",
       "      <td>63777.00000</td>\n",
       "      <td>Petrol</td>\n",
       "      <td>Manual</td>\n",
       "      <td>First</td>\n",
       "      <td>18.50000</td>\n",
       "      <td>1197.00000</td>\n",
       "      <td>82.90000</td>\n",
       "      <td>Black/Silver</td>\n",
       "      <td>5.00000</td>\n",
       "      <td>4.00000</td>\n",
       "      <td>3</td>\n",
       "      <td>Hyundai</td>\n",
       "      <td>i20</td>\n",
       "      <td>4.86182</td>\n",
       "    </tr>\n",
       "    <tr>\n",
       "      <th>5956</th>\n",
       "      <td>Maruti Swift</td>\n",
       "      <td>Coimbatore</td>\n",
       "      <td>2016.00000</td>\n",
       "      <td>37806.00000</td>\n",
       "      <td>Petrol</td>\n",
       "      <td>Manual</td>\n",
       "      <td>First</td>\n",
       "      <td>20.40000</td>\n",
       "      <td>1197.00000</td>\n",
       "      <td>81.80000</td>\n",
       "      <td>Black/Silver</td>\n",
       "      <td>5.00000</td>\n",
       "      <td>4.00000</td>\n",
       "      <td>5</td>\n",
       "      <td>Maruti</td>\n",
       "      <td>Swift</td>\n",
       "      <td>4.05897</td>\n",
       "    </tr>\n",
       "    <tr>\n",
       "      <th>5957</th>\n",
       "      <td>Mercedes-Benz SLK-Class</td>\n",
       "      <td>Coimbatore</td>\n",
       "      <td>2016.00000</td>\n",
       "      <td>22732.00000</td>\n",
       "      <td>Petrol</td>\n",
       "      <td>Automatic</td>\n",
       "      <td>First</td>\n",
       "      <td>18.10000</td>\n",
       "      <td>3498.00000</td>\n",
       "      <td>306.00000</td>\n",
       "      <td>Black/Silver</td>\n",
       "      <td>2.00000</td>\n",
       "      <td>2.00000</td>\n",
       "      <td>55</td>\n",
       "      <td>Mercedes-Benz</td>\n",
       "      <td>SLK-Class</td>\n",
       "      <td>26.43396</td>\n",
       "    </tr>\n",
       "    <tr>\n",
       "      <th>5958</th>\n",
       "      <td>Hyundai i10</td>\n",
       "      <td>Kolkata</td>\n",
       "      <td>2016.00000</td>\n",
       "      <td>7000.00000</td>\n",
       "      <td>Petrol</td>\n",
       "      <td>Manual</td>\n",
       "      <td>First</td>\n",
       "      <td>20.36000</td>\n",
       "      <td>1197.00000</td>\n",
       "      <td>78.90000</td>\n",
       "      <td>White</td>\n",
       "      <td>5.00000</td>\n",
       "      <td>4.00000</td>\n",
       "      <td>3</td>\n",
       "      <td>Hyundai</td>\n",
       "      <td>i10</td>\n",
       "      <td>4.86182</td>\n",
       "    </tr>\n",
       "  </tbody>\n",
       "</table>\n",
       "<p>5959 rows × 17 columns</p>\n",
       "</div>"
      ],
      "text/plain": [
       "                         Name    Location       Year  Kilometers_Driven  \\\n",
       "0            Mahindra Scorpio        Pune 2012.00000        99000.00000   \n",
       "1               Maruti Baleno       Kochi 2018.00000        18678.00000   \n",
       "2               Mahindra Xylo   Bangalore 2013.00000       197000.00000   \n",
       "3               Hyundai Grand       Delhi 2014.00000        45000.00000   \n",
       "4               Toyota Innova       Delhi 2011.00000        65000.00000   \n",
       "...                       ...         ...        ...                ...   \n",
       "5954              Honda Civic        Pune 2011.00000        47000.00000   \n",
       "5955              Hyundai i20       Delhi 2013.00000        63777.00000   \n",
       "5956             Maruti Swift  Coimbatore 2016.00000        37806.00000   \n",
       "5957  Mercedes-Benz SLK-Class  Coimbatore 2016.00000        22732.00000   \n",
       "5958              Hyundai i10     Kolkata 2016.00000         7000.00000   \n",
       "\n",
       "     Fuel_Type Transmission Owner_Type  Mileage     Engine     Power  \\\n",
       "0       Diesel       Manual      Third 12.05000 2179.00000 120.00000   \n",
       "1       Petrol       Manual      First 21.10000  998.00000 100.00000   \n",
       "2       Diesel       Manual      First 11.68000 2498.00000 112.00000   \n",
       "3       Diesel       Manual      First 24.00000 1120.00000  70.00000   \n",
       "4       Diesel       Manual      First 12.80000 2494.00000 102.00000   \n",
       "...        ...          ...        ...      ...        ...       ...   \n",
       "5954    Petrol    Automatic     Second 13.90000 1799.00000 130.30000   \n",
       "5955    Petrol       Manual      First 18.50000 1197.00000  82.90000   \n",
       "5956    Petrol       Manual      First 20.40000 1197.00000  81.80000   \n",
       "5957    Petrol    Automatic      First 18.10000 3498.00000 306.00000   \n",
       "5958    Petrol       Manual      First 20.36000 1197.00000  78.90000   \n",
       "\n",
       "            Colour   Seats  No. of Doors  Price_x          Brand      Model  \\\n",
       "0     Black/Silver 8.00000       5.00000        6       Mahindra    Scorpio   \n",
       "1           Others 5.00000       4.00000        8         Maruti     Baleno   \n",
       "2            White 7.00000       5.00000        4       Mahindra       Xylo   \n",
       "3            White 5.00000       4.00000        3        Hyundai      Grand   \n",
       "4           Others 8.00000       5.00000        6         Toyota     Innova   \n",
       "...            ...     ...           ...      ...            ...        ...   \n",
       "5954        Others 5.00000       4.00000        4          Honda      Civic   \n",
       "5955  Black/Silver 5.00000       4.00000        3        Hyundai        i20   \n",
       "5956  Black/Silver 5.00000       4.00000        5         Maruti      Swift   \n",
       "5957  Black/Silver 2.00000       2.00000       55  Mercedes-Benz  SLK-Class   \n",
       "5958         White 5.00000       4.00000        3        Hyundai        i10   \n",
       "\n",
       "      Price_y  \n",
       "0     7.61029  \n",
       "1     4.05897  \n",
       "2     7.61029  \n",
       "3     4.86182  \n",
       "4    11.13171  \n",
       "...       ...  \n",
       "5954  4.93511  \n",
       "5955  4.86182  \n",
       "5956  4.05897  \n",
       "5957 26.43396  \n",
       "5958  4.86182  \n",
       "\n",
       "[5959 rows x 17 columns]"
      ]
     },
     "execution_count": 34,
     "metadata": {},
     "output_type": "execute_result"
    }
   ],
   "source": [
    "cars_2"
   ]
  },
  {
   "cell_type": "code",
   "execution_count": 28,
   "metadata": {
    "ExecuteTime": {
     "end_time": "2021-11-20T14:53:19.486437Z",
     "start_time": "2021-11-20T14:53:19.443551Z"
    }
   },
   "outputs": [
    {
     "data": {
      "text/html": [
       "<div>\n",
       "<style scoped>\n",
       "    .dataframe tbody tr th:only-of-type {\n",
       "        vertical-align: middle;\n",
       "    }\n",
       "\n",
       "    .dataframe tbody tr th {\n",
       "        vertical-align: top;\n",
       "    }\n",
       "\n",
       "    .dataframe thead th {\n",
       "        text-align: right;\n",
       "    }\n",
       "</style>\n",
       "<table border=\"1\" class=\"dataframe\">\n",
       "  <thead>\n",
       "    <tr style=\"text-align: right;\">\n",
       "      <th></th>\n",
       "      <th>Name</th>\n",
       "      <th>Location</th>\n",
       "      <th>Year</th>\n",
       "      <th>Kilometers_Driven</th>\n",
       "      <th>Fuel_Type</th>\n",
       "      <th>Transmission</th>\n",
       "      <th>Owner_Type</th>\n",
       "      <th>Mileage</th>\n",
       "      <th>Engine</th>\n",
       "      <th>Power</th>\n",
       "      <th>Colour</th>\n",
       "      <th>Seats</th>\n",
       "      <th>No. of Doors</th>\n",
       "      <th>Price</th>\n",
       "      <th>Brand</th>\n",
       "      <th>Model</th>\n",
       "      <th>Cars_Category</th>\n",
       "    </tr>\n",
       "  </thead>\n",
       "  <tbody>\n",
       "    <tr>\n",
       "      <th>0</th>\n",
       "      <td>Mahindra Scorpio</td>\n",
       "      <td>Pune</td>\n",
       "      <td>2012.00000</td>\n",
       "      <td>99000.00000</td>\n",
       "      <td>Diesel</td>\n",
       "      <td>Manual</td>\n",
       "      <td>Third</td>\n",
       "      <td>12.05000</td>\n",
       "      <td>2179.00000</td>\n",
       "      <td>120.00000</td>\n",
       "      <td>Black/Silver</td>\n",
       "      <td>8.00000</td>\n",
       "      <td>5.00000</td>\n",
       "      <td>6</td>\n",
       "      <td>Mahindra</td>\n",
       "      <td>Scorpio</td>\n",
       "      <td>Budget_Friendly</td>\n",
       "    </tr>\n",
       "    <tr>\n",
       "      <th>1</th>\n",
       "      <td>Maruti Baleno</td>\n",
       "      <td>Kochi</td>\n",
       "      <td>2018.00000</td>\n",
       "      <td>18678.00000</td>\n",
       "      <td>Petrol</td>\n",
       "      <td>Manual</td>\n",
       "      <td>First</td>\n",
       "      <td>21.10000</td>\n",
       "      <td>998.00000</td>\n",
       "      <td>100.00000</td>\n",
       "      <td>Others</td>\n",
       "      <td>5.00000</td>\n",
       "      <td>4.00000</td>\n",
       "      <td>8</td>\n",
       "      <td>Maruti</td>\n",
       "      <td>Baleno</td>\n",
       "      <td>Budget_Friendly</td>\n",
       "    </tr>\n",
       "    <tr>\n",
       "      <th>2</th>\n",
       "      <td>Mahindra Xylo</td>\n",
       "      <td>Bangalore</td>\n",
       "      <td>2013.00000</td>\n",
       "      <td>197000.00000</td>\n",
       "      <td>Diesel</td>\n",
       "      <td>Manual</td>\n",
       "      <td>First</td>\n",
       "      <td>11.68000</td>\n",
       "      <td>2498.00000</td>\n",
       "      <td>112.00000</td>\n",
       "      <td>White</td>\n",
       "      <td>7.00000</td>\n",
       "      <td>5.00000</td>\n",
       "      <td>4</td>\n",
       "      <td>Mahindra</td>\n",
       "      <td>Xylo</td>\n",
       "      <td>Budget_Friendly</td>\n",
       "    </tr>\n",
       "    <tr>\n",
       "      <th>3</th>\n",
       "      <td>Hyundai Grand</td>\n",
       "      <td>Delhi</td>\n",
       "      <td>2014.00000</td>\n",
       "      <td>45000.00000</td>\n",
       "      <td>Diesel</td>\n",
       "      <td>Manual</td>\n",
       "      <td>First</td>\n",
       "      <td>24.00000</td>\n",
       "      <td>1120.00000</td>\n",
       "      <td>70.00000</td>\n",
       "      <td>White</td>\n",
       "      <td>5.00000</td>\n",
       "      <td>4.00000</td>\n",
       "      <td>3</td>\n",
       "      <td>Hyundai</td>\n",
       "      <td>Grand</td>\n",
       "      <td>Budget_Friendly</td>\n",
       "    </tr>\n",
       "    <tr>\n",
       "      <th>4</th>\n",
       "      <td>Toyota Innova</td>\n",
       "      <td>Delhi</td>\n",
       "      <td>2011.00000</td>\n",
       "      <td>65000.00000</td>\n",
       "      <td>Diesel</td>\n",
       "      <td>Manual</td>\n",
       "      <td>First</td>\n",
       "      <td>12.80000</td>\n",
       "      <td>2494.00000</td>\n",
       "      <td>102.00000</td>\n",
       "      <td>Others</td>\n",
       "      <td>8.00000</td>\n",
       "      <td>5.00000</td>\n",
       "      <td>6</td>\n",
       "      <td>Toyota</td>\n",
       "      <td>Innova</td>\n",
       "      <td>Medium_Range</td>\n",
       "    </tr>\n",
       "  </tbody>\n",
       "</table>\n",
       "</div>"
      ],
      "text/plain": [
       "               Name   Location       Year  Kilometers_Driven Fuel_Type  \\\n",
       "0  Mahindra Scorpio       Pune 2012.00000        99000.00000    Diesel   \n",
       "1     Maruti Baleno      Kochi 2018.00000        18678.00000    Petrol   \n",
       "2     Mahindra Xylo  Bangalore 2013.00000       197000.00000    Diesel   \n",
       "3     Hyundai Grand      Delhi 2014.00000        45000.00000    Diesel   \n",
       "4     Toyota Innova      Delhi 2011.00000        65000.00000    Diesel   \n",
       "\n",
       "  Transmission Owner_Type  Mileage     Engine     Power        Colour   Seats  \\\n",
       "0       Manual      Third 12.05000 2179.00000 120.00000  Black/Silver 8.00000   \n",
       "1       Manual      First 21.10000  998.00000 100.00000        Others 5.00000   \n",
       "2       Manual      First 11.68000 2498.00000 112.00000         White 7.00000   \n",
       "3       Manual      First 24.00000 1120.00000  70.00000         White 5.00000   \n",
       "4       Manual      First 12.80000 2494.00000 102.00000        Others 8.00000   \n",
       "\n",
       "   No. of Doors  Price     Brand    Model    Cars_Category  \n",
       "0       5.00000      6  Mahindra  Scorpio  Budget_Friendly  \n",
       "1       4.00000      8    Maruti   Baleno  Budget_Friendly  \n",
       "2       5.00000      4  Mahindra     Xylo  Budget_Friendly  \n",
       "3       4.00000      3   Hyundai    Grand  Budget_Friendly  \n",
       "4       5.00000      6    Toyota   Innova     Medium_Range  "
      ]
     },
     "execution_count": 28,
     "metadata": {},
     "output_type": "execute_result"
    }
   ],
   "source": [
    "cars_2 = cars_2.merge(t.reset_index(), how='left',on='Brand')\n",
    "bins = [0,10,20,160]\n",
    "label =['Budget_Friendly','Medium_Range','TopNotch_Cars']\n",
    "cars['Cars_Category'] = pd.cut(cars_2['Price_y'],bins,right=False,labels=label)\n",
    "cars.head()"
   ]
  },
  {
   "cell_type": "code",
   "execution_count": 29,
   "metadata": {
    "ExecuteTime": {
     "end_time": "2021-11-20T14:53:31.879125Z",
     "start_time": "2021-11-20T14:53:31.864165Z"
    }
   },
   "outputs": [
    {
     "data": {
      "text/plain": [
       "Budget_Friendly   0.75844\n",
       "TopNotch_Cars     0.16183\n",
       "Medium_Range      0.07974\n",
       "Name: Cars_Category, dtype: float64"
      ]
     },
     "execution_count": 29,
     "metadata": {},
     "output_type": "execute_result"
    }
   ],
   "source": [
    "cars.Cars_Category.value_counts(normalize=True)"
   ]
  },
  {
   "cell_type": "code",
   "execution_count": 30,
   "metadata": {
    "ExecuteTime": {
     "end_time": "2021-11-20T14:54:19.199273Z",
     "start_time": "2021-11-20T14:54:19.110506Z"
    }
   },
   "outputs": [
    {
     "data": {
      "text/plain": [
       "Brand                         \n",
       "Audi           TopNotch_Cars       224\n",
       "               Budget_Friendly      11\n",
       "               Medium_Range          1\n",
       "BMW            TopNotch_Cars       255\n",
       "               Budget_Friendly       9\n",
       "               Medium_Range          3\n",
       "Bentley        TopNotch_Cars         1\n",
       "               Budget_Friendly       0\n",
       "               Medium_Range          0\n",
       "Chevrolet      Budget_Friendly     109\n",
       "               Medium_Range          3\n",
       "               TopNotch_Cars         1\n",
       "Datsun         Budget_Friendly      12\n",
       "               TopNotch_Cars         1\n",
       "               Medium_Range          0\n",
       "Fiat           Budget_Friendly      24\n",
       "               TopNotch_Cars         1\n",
       "               Medium_Range          0\n",
       "Force          Budget_Friendly       3\n",
       "               Medium_Range          0\n",
       "               TopNotch_Cars         0\n",
       "Ford           Budget_Friendly     294\n",
       "               TopNotch_Cars         3\n",
       "               Medium_Range          1\n",
       "Honda          Budget_Friendly     592\n",
       "               TopNotch_Cars         8\n",
       "               Medium_Range          1\n",
       "Hyundai        Budget_Friendly    1083\n",
       "               TopNotch_Cars        11\n",
       "               Medium_Range          5\n",
       "Isuzu          Medium_Range          3\n",
       "               Budget_Friendly       0\n",
       "               TopNotch_Cars         0\n",
       "Jaguar         TopNotch_Cars        39\n",
       "               Budget_Friendly       1\n",
       "               Medium_Range          0\n",
       "Jeep           Medium_Range         14\n",
       "               Budget_Friendly       1\n",
       "               TopNotch_Cars         0\n",
       "Lamborghini    TopNotch_Cars         1\n",
       "               Budget_Friendly       0\n",
       "               Medium_Range          0\n",
       "Land           TopNotch_Cars        54\n",
       "               Budget_Friendly       2\n",
       "               Medium_Range          1\n",
       "Mahindra       Budget_Friendly     269\n",
       "               Medium_Range          2\n",
       "               TopNotch_Cars         1\n",
       "Maruti         Budget_Friendly    1179\n",
       "               TopNotch_Cars         5\n",
       "               Medium_Range          3\n",
       "Mercedes-Benz  TopNotch_Cars       305\n",
       "               Budget_Friendly      11\n",
       "               Medium_Range          1\n",
       "Mini           TopNotch_Cars        24\n",
       "               Budget_Friendly       2\n",
       "               Medium_Range          0\n",
       "Mitsubishi     Medium_Range         23\n",
       "               Budget_Friendly       3\n",
       "               TopNotch_Cars         1\n",
       "Nissan         Budget_Friendly      91\n",
       "               Medium_Range          0\n",
       "               TopNotch_Cars         0\n",
       "Porsche        TopNotch_Cars        16\n",
       "               Budget_Friendly       2\n",
       "               Medium_Range          0\n",
       "Renault        Budget_Friendly     140\n",
       "               Medium_Range          2\n",
       "               TopNotch_Cars         1\n",
       "Skoda          Budget_Friendly     168\n",
       "               TopNotch_Cars         3\n",
       "               Medium_Range          2\n",
       "Smart          Budget_Friendly       1\n",
       "               Medium_Range          0\n",
       "               TopNotch_Cars         0\n",
       "Tata           Budget_Friendly     181\n",
       "               Medium_Range          2\n",
       "               TopNotch_Cars         1\n",
       "Toyota         Medium_Range        386\n",
       "               Budget_Friendly      17\n",
       "               TopNotch_Cars         7\n",
       "Volkswagen     Budget_Friendly     312\n",
       "               Medium_Range          2\n",
       "               TopNotch_Cars         1\n",
       "Volvo          Medium_Range         20\n",
       "               Budget_Friendly       1\n",
       "               TopNotch_Cars         0\n",
       "Name: Cars_Category, dtype: int64"
      ]
     },
     "execution_count": 30,
     "metadata": {},
     "output_type": "execute_result"
    }
   ],
   "source": [
    "cars.groupby(['Brand']).Cars_Category.value_counts()"
   ]
  },
  {
   "cell_type": "code",
   "execution_count": 31,
   "metadata": {
    "ExecuteTime": {
     "end_time": "2021-11-20T14:56:15.251067Z",
     "start_time": "2021-11-20T14:56:15.223140Z"
    }
   },
   "outputs": [
    {
     "data": {
      "text/html": [
       "<div>\n",
       "<style scoped>\n",
       "    .dataframe tbody tr th:only-of-type {\n",
       "        vertical-align: middle;\n",
       "    }\n",
       "\n",
       "    .dataframe tbody tr th {\n",
       "        vertical-align: top;\n",
       "    }\n",
       "\n",
       "    .dataframe thead th {\n",
       "        text-align: right;\n",
       "    }\n",
       "</style>\n",
       "<table border=\"1\" class=\"dataframe\">\n",
       "  <thead>\n",
       "    <tr style=\"text-align: right;\">\n",
       "      <th></th>\n",
       "      <th>Name</th>\n",
       "      <th>Location</th>\n",
       "      <th>Year</th>\n",
       "      <th>Kilometers_Driven</th>\n",
       "      <th>Fuel_Type</th>\n",
       "      <th>Transmission</th>\n",
       "      <th>Owner_Type</th>\n",
       "      <th>Mileage</th>\n",
       "      <th>Engine</th>\n",
       "      <th>Power</th>\n",
       "      <th>Colour</th>\n",
       "      <th>Seats</th>\n",
       "      <th>No. of Doors</th>\n",
       "      <th>Price</th>\n",
       "      <th>Brand</th>\n",
       "      <th>Model</th>\n",
       "      <th>Cars_Category</th>\n",
       "    </tr>\n",
       "  </thead>\n",
       "  <tbody>\n",
       "    <tr>\n",
       "      <th>5656</th>\n",
       "      <td>Maruti Wagon</td>\n",
       "      <td>Kolkata</td>\n",
       "      <td>2012.00000</td>\n",
       "      <td>35503.00000</td>\n",
       "      <td>Petrol</td>\n",
       "      <td>Manual</td>\n",
       "      <td>First</td>\n",
       "      <td>18.90000</td>\n",
       "      <td>998.00000</td>\n",
       "      <td>67.10000</td>\n",
       "      <td>Others</td>\n",
       "      <td>5.00000</td>\n",
       "      <td>4.00000</td>\n",
       "      <td>2</td>\n",
       "      <td>Maruti</td>\n",
       "      <td>Wagon</td>\n",
       "      <td>TopNotch_Cars</td>\n",
       "    </tr>\n",
       "    <tr>\n",
       "      <th>5815</th>\n",
       "      <td>Maruti Wagon</td>\n",
       "      <td>Delhi</td>\n",
       "      <td>2012.00000</td>\n",
       "      <td>52000.00000</td>\n",
       "      <td>Petrol</td>\n",
       "      <td>Manual</td>\n",
       "      <td>First</td>\n",
       "      <td>18.90000</td>\n",
       "      <td>998.00000</td>\n",
       "      <td>67.10000</td>\n",
       "      <td>White</td>\n",
       "      <td>5.00000</td>\n",
       "      <td>4.00000</td>\n",
       "      <td>2</td>\n",
       "      <td>Maruti</td>\n",
       "      <td>Wagon</td>\n",
       "      <td>TopNotch_Cars</td>\n",
       "    </tr>\n",
       "    <tr>\n",
       "      <th>5844</th>\n",
       "      <td>Maruti Alto</td>\n",
       "      <td>Delhi</td>\n",
       "      <td>2013.00000</td>\n",
       "      <td>56000.00000</td>\n",
       "      <td>Petrol</td>\n",
       "      <td>Manual</td>\n",
       "      <td>First</td>\n",
       "      <td>24.70000</td>\n",
       "      <td>796.00000</td>\n",
       "      <td>47.30000</td>\n",
       "      <td>Others</td>\n",
       "      <td>5.00000</td>\n",
       "      <td>4.00000</td>\n",
       "      <td>2</td>\n",
       "      <td>Maruti</td>\n",
       "      <td>Alto</td>\n",
       "      <td>TopNotch_Cars</td>\n",
       "    </tr>\n",
       "    <tr>\n",
       "      <th>5937</th>\n",
       "      <td>Maruti Swift</td>\n",
       "      <td>Kolkata</td>\n",
       "      <td>2014.00000</td>\n",
       "      <td>38578.00000</td>\n",
       "      <td>Diesel</td>\n",
       "      <td>Manual</td>\n",
       "      <td>First</td>\n",
       "      <td>23.40000</td>\n",
       "      <td>1248.00000</td>\n",
       "      <td>74.00000</td>\n",
       "      <td>Black/Silver</td>\n",
       "      <td>5.00000</td>\n",
       "      <td>4.00000</td>\n",
       "      <td>3</td>\n",
       "      <td>Maruti</td>\n",
       "      <td>Swift</td>\n",
       "      <td>TopNotch_Cars</td>\n",
       "    </tr>\n",
       "    <tr>\n",
       "      <th>5943</th>\n",
       "      <td>Maruti Ciaz</td>\n",
       "      <td>Delhi</td>\n",
       "      <td>2016.00000</td>\n",
       "      <td>41000.00000</td>\n",
       "      <td>Diesel</td>\n",
       "      <td>Manual</td>\n",
       "      <td>First</td>\n",
       "      <td>28.09000</td>\n",
       "      <td>1248.00000</td>\n",
       "      <td>88.50000</td>\n",
       "      <td>White</td>\n",
       "      <td>5.00000</td>\n",
       "      <td>4.00000</td>\n",
       "      <td>9</td>\n",
       "      <td>Maruti</td>\n",
       "      <td>Ciaz</td>\n",
       "      <td>TopNotch_Cars</td>\n",
       "    </tr>\n",
       "  </tbody>\n",
       "</table>\n",
       "</div>"
      ],
      "text/plain": [
       "              Name Location       Year  Kilometers_Driven Fuel_Type  \\\n",
       "5656  Maruti Wagon  Kolkata 2012.00000        35503.00000    Petrol   \n",
       "5815  Maruti Wagon    Delhi 2012.00000        52000.00000    Petrol   \n",
       "5844   Maruti Alto    Delhi 2013.00000        56000.00000    Petrol   \n",
       "5937  Maruti Swift  Kolkata 2014.00000        38578.00000    Diesel   \n",
       "5943   Maruti Ciaz    Delhi 2016.00000        41000.00000    Diesel   \n",
       "\n",
       "     Transmission Owner_Type  Mileage     Engine    Power        Colour  \\\n",
       "5656       Manual      First 18.90000  998.00000 67.10000        Others   \n",
       "5815       Manual      First 18.90000  998.00000 67.10000         White   \n",
       "5844       Manual      First 24.70000  796.00000 47.30000        Others   \n",
       "5937       Manual      First 23.40000 1248.00000 74.00000  Black/Silver   \n",
       "5943       Manual      First 28.09000 1248.00000 88.50000         White   \n",
       "\n",
       "       Seats  No. of Doors  Price   Brand  Model  Cars_Category  \n",
       "5656 5.00000       4.00000      2  Maruti  Wagon  TopNotch_Cars  \n",
       "5815 5.00000       4.00000      2  Maruti  Wagon  TopNotch_Cars  \n",
       "5844 5.00000       4.00000      2  Maruti   Alto  TopNotch_Cars  \n",
       "5937 5.00000       4.00000      3  Maruti  Swift  TopNotch_Cars  \n",
       "5943 5.00000       4.00000      9  Maruti   Ciaz  TopNotch_Cars  "
      ]
     },
     "execution_count": 31,
     "metadata": {},
     "output_type": "execute_result"
    }
   ],
   "source": [
    "cars[(cars['Brand'] == 'Maruti') & (cars['Cars_Category'] == 'TopNotch_Cars')]"
   ]
  },
  {
   "cell_type": "code",
   "execution_count": null,
   "metadata": {},
   "outputs": [],
   "source": [
    "cars.groupby(['Cars_Category']).Brand.value_counts()"
   ]
  },
  {
   "cell_type": "markdown",
   "metadata": {},
   "source": [
    "**Create a new column 'CarAge'**\n",
    "\n",
    "Hint: Subtract Year by current year"
   ]
  },
  {
   "cell_type": "code",
   "execution_count": 35,
   "metadata": {
    "ExecuteTime": {
     "end_time": "2021-11-20T15:02:06.414870Z",
     "start_time": "2021-11-20T15:02:06.392929Z"
    }
   },
   "outputs": [],
   "source": [
    "import datetime\n",
    "now = datetime.datetime.now()\n",
    "now.year\n",
    "cars['CarAge']= now.year-cars.Year"
   ]
  },
  {
   "cell_type": "code",
   "execution_count": 36,
   "metadata": {
    "ExecuteTime": {
     "end_time": "2021-11-20T15:02:08.668815Z",
     "start_time": "2021-11-20T15:02:08.655820Z"
    }
   },
   "outputs": [
    {
     "data": {
      "text/plain": [
       "2.00000     101\n",
       "3.00000     298\n",
       "4.00000     586\n",
       "5.00000     739\n",
       "6.00000     736\n",
       "7.00000     793\n",
       "8.00000     642\n",
       "9.00000     573\n",
       "10.00000    461\n",
       "11.00000    338\n",
       "12.00000    196\n",
       "13.00000    170\n",
       "14.00000    122\n",
       "15.00000     75\n",
       "16.00000     55\n",
       "17.00000     28\n",
       "18.00000     13\n",
       "19.00000     14\n",
       "20.00000      7\n",
       "21.00000      4\n",
       "22.00000      2\n",
       "23.00000      4\n",
       "Name: CarAge, dtype: int64"
      ]
     },
     "execution_count": 36,
     "metadata": {},
     "output_type": "execute_result"
    }
   ],
   "source": [
    "cars.CarAge.value_counts().sort_index(ascending=True)"
   ]
  },
  {
   "cell_type": "markdown",
   "metadata": {},
   "source": [
    "**Check for Outliers**"
   ]
  },
  {
   "cell_type": "code",
   "execution_count": 37,
   "metadata": {
    "ExecuteTime": {
     "end_time": "2021-11-20T15:04:02.666107Z",
     "start_time": "2021-11-20T15:04:01.822719Z"
    }
   },
   "outputs": [
    {
     "name": "stdout",
     "output_type": "stream",
     "text": [
      "Shape before Outliers Treatment (5959, 18)\n"
     ]
    },
    {
     "data": {
      "image/png": "[encoded data removed]",
      "text/plain": [
       "<Figure size 1440x1440 with 5 Axes>"
      ]
     },
     "metadata": {
      "needs_background": "light"
     },
     "output_type": "display_data"
    }
   ],
   "source": [
    "data_plot=cars[['Kilometers_Driven', 'Mileage', 'Engine', 'Power','CarAge']]\n",
    "fig=plt.figure(figsize=(20,20))\n",
    "for i in range(0,len(data_plot.columns)):\n",
    "    ax=fig.add_subplot(3,2,i+1)\n",
    "    sns.boxplot(data_plot[data_plot.columns[i]])\n",
    "    plt.tight_layout()\n",
    "print('Shape before Outliers Treatment',cars.shape)"
   ]
  },
  {
   "cell_type": "code",
   "execution_count": 40,
   "metadata": {
    "ExecuteTime": {
     "end_time": "2021-11-20T15:10:38.937311Z",
     "start_time": "2021-11-20T15:10:38.926340Z"
    }
   },
   "outputs": [
    {
     "data": {
      "text/plain": [
       "CNG    14\n",
       "Name: Fuel_Type, dtype: int64"
      ]
     },
     "execution_count": 40,
     "metadata": {},
     "output_type": "execute_result"
    }
   ],
   "source": [
    "cars[cars['Mileage'] > 30]['Fuel_Type'].value_counts()"
   ]
  },
  {
   "cell_type": "code",
   "execution_count": 38,
   "metadata": {
    "ExecuteTime": {
     "end_time": "2021-11-20T15:04:44.121635Z",
     "start_time": "2021-11-20T15:04:43.964560Z"
    }
   },
   "outputs": [
    {
     "data": {
      "text/plain": [
       "<AxesSubplot:xlabel='Kilometers_Driven'>"
      ]
     },
     "execution_count": 38,
     "metadata": {},
     "output_type": "execute_result"
    },
    {
     "data": {
      "image/png": "[encoded data removed]",
      "text/plain": [
       "<Figure size 432x288 with 1 Axes>"
      ]
     },
     "metadata": {
      "needs_background": "light"
     },
     "output_type": "display_data"
    }
   ],
   "source": [
    "sns.boxplot(cars['Kilometers_Driven'], showfliers=False)"
   ]
  },
  {
   "cell_type": "code",
   "execution_count": 45,
   "metadata": {
    "ExecuteTime": {
     "end_time": "2021-11-20T15:24:21.187109Z",
     "start_time": "2021-11-20T15:24:20.896339Z"
    }
   },
   "outputs": [
    {
     "data": {
      "text/plain": [
       "<AxesSubplot:xlabel='Price', ylabel='Density'>"
      ]
     },
     "execution_count": 45,
     "metadata": {},
     "output_type": "execute_result"
    },
    {
     "data": {
      "image/png": "[encoded data removed]",
      "text/plain": [
       "<Figure size 432x288 with 1 Axes>"
      ]
     },
     "metadata": {
      "needs_background": "light"
     },
     "output_type": "display_data"
    }
   ],
   "source": [
    "import numpy as np\n",
    "sns.distplot(np.log1p(cars['Price']))"
   ]
  },
  {
   "cell_type": "code",
   "execution_count": null,
   "metadata": {},
   "outputs": [],
   "source": [
    "np.exp"
   ]
  },
  {
   "cell_type": "markdown",
   "metadata": {},
   "source": [
    "**Seems like Kilometers_Driven, Power, Engine have many outliers**"
   ]
  },
  {
   "cell_type": "markdown",
   "metadata": {},
   "source": [
    "**Outliers Treatment**"
   ]
  },
  {
   "cell_type": "code",
   "execution_count": null,
   "metadata": {},
   "outputs": [],
   "source": [
    "Q1 = cars.quantile(0.25) # Getting First quantile for all numerical variables\n",
    "Q3 = cars.quantile(0.75) # Getting Second quantile for all numerical variables\n",
    "IQR = Q3 - Q1          # Getting IQR values\n",
    "lower_range= Q1-(1.5 * IQR) #Getting Lower Limit for all numerical variables\n",
    "upper_range= Q3+(1.5 * IQR) #Getting Upper Limit for all numerical variables"
   ]
  },
  {
   "cell_type": "code",
   "execution_count": null,
   "metadata": {},
   "outputs": [],
   "source": [
    "lower_range"
   ]
  },
  {
   "cell_type": "code",
   "execution_count": null,
   "metadata": {},
   "outputs": [],
   "source": [
    "upper_range"
   ]
  },
  {
   "cell_type": "code",
   "execution_count": null,
   "metadata": {},
   "outputs": [],
   "source": [
    "cars['Kilometers_Driven']=np.where(cars['Kilometers_Driven']> 131551.75000,131551.75000,cars['Kilometers_Driven'])\n",
    "\n",
    "cars['Mileage']=np.where(cars['Mileage']> 29.86,29.86,cars['Mileage'])\n",
    "cars['Mileage']=np.where(cars['Mileage']< 6.5,6.5,cars['Mileage'])\n",
    "\n",
    "cars['Engine']=np.where(cars['Engine']< 19.00,19.00,cars['Engine'])\n",
    "cars['Engine']=np.where(cars['Engine']> 3163.00,3163.00,cars['Engine'])\n",
    "\n",
    "cars['Power']=np.where(cars['Power']> 232.75,232.75,cars['Power'])\n",
    "\n",
    "cars['CarAge']=np.where(cars['CarAge']> 15.25,15.25,cars['CarAge'])"
   ]
  },
  {
   "cell_type": "code",
   "execution_count": 46,
   "metadata": {
    "ExecuteTime": {
     "end_time": "2021-11-20T15:28:32.766179Z",
     "start_time": "2021-11-20T15:28:32.757203Z"
    }
   },
   "outputs": [],
   "source": [
    "cars['Kilometers_Driven']=np.where(cars['Kilometers_Driven']> 100000, 100000,cars['Kilometers_Driven'])"
   ]
  },
  {
   "cell_type": "code",
   "execution_count": null,
   "metadata": {},
   "outputs": [],
   "source": [
    "data_plot=cars[['Kilometers_Driven', 'Mileage', 'Engine', 'Power','CarAge']]\n",
    "fig=plt.figure(figsize=(20,20))\n",
    "for i in range(0,len(data_plot.columns)):\n",
    "    ax=fig.add_subplot(3,2,i+1)\n",
    "    sns.boxplot(data_plot[data_plot.columns[i]])\n",
    "    plt.tight_layout()\n",
    "\n",
    "print('Shape After Outliers Treatment',cars.shape)"
   ]
  },
  {
   "cell_type": "code",
   "execution_count": 47,
   "metadata": {
    "ExecuteTime": {
     "end_time": "2021-11-20T15:28:46.650965Z",
     "start_time": "2021-11-20T15:28:46.497378Z"
    }
   },
   "outputs": [
    {
     "data": {
      "text/plain": [
       "<AxesSubplot:xlabel='Kilometers_Driven'>"
      ]
     },
     "execution_count": 47,
     "metadata": {},
     "output_type": "execute_result"
    },
    {
     "data": {
      "image/png": "[encoded data removed]",
      "text/plain": [
       "<Figure size 432x288 with 1 Axes>"
      ]
     },
     "metadata": {
      "needs_background": "light"
     },
     "output_type": "display_data"
    }
   ],
   "source": [
    "sns.boxplot(cars['Kilometers_Driven'])"
   ]
  },
  {
   "cell_type": "markdown",
   "metadata": {},
   "source": [
    "Since this was Outliers Treatment by imputing UL and LL in place of Outliers thus, the number of rows didn't change but had it been Outliers Removal, the number of rows would have changed"
   ]
  },
  {
   "cell_type": "markdown",
   "metadata": {},
   "source": [
    "**Null Values Imputation**"
   ]
  },
  {
   "cell_type": "code",
   "execution_count": 48,
   "metadata": {
    "ExecuteTime": {
     "end_time": "2021-11-20T15:28:58.549826Z",
     "start_time": "2021-11-20T15:28:58.521902Z"
    }
   },
   "outputs": [],
   "source": [
    "cols=cars.isnull().sum()[cars.isnull().sum()>0].index"
   ]
  },
  {
   "cell_type": "code",
   "execution_count": 49,
   "metadata": {
    "ExecuteTime": {
     "end_time": "2021-11-20T15:28:59.993138Z",
     "start_time": "2021-11-20T15:28:59.980175Z"
    }
   },
   "outputs": [
    {
     "data": {
      "text/plain": [
       "Index(['Location', 'Year', 'Kilometers_Driven', 'Transmission', 'Owner_Type',\n",
       "       'Mileage', 'Engine', 'Power', 'Colour', 'Seats', 'No. of Doors',\n",
       "       'Cars_Category', 'CarAge'],\n",
       "      dtype='object')"
      ]
     },
     "execution_count": 49,
     "metadata": {},
     "output_type": "execute_result"
    }
   ],
   "source": [
    "cols"
   ]
  },
  {
   "cell_type": "code",
   "execution_count": 50,
   "metadata": {
    "ExecuteTime": {
     "end_time": "2021-11-20T15:29:14.277584Z",
     "start_time": "2021-11-20T15:29:14.247660Z"
    }
   },
   "outputs": [],
   "source": [
    "objects=cars[cols].select_dtypes(include=['object','category']).columns\n",
    "non_objects=cars[cols].select_dtypes(exclude=['object','category']).columns"
   ]
  },
  {
   "cell_type": "markdown",
   "metadata": {},
   "source": [
    "**Simple Imputer**\n",
    "\n",
    "The SimpleImputer class provides basic strategies for imputing missing values. Missing values can be imputed with a provided constant value, or using the statistics (mean, median or most frequent) of each column in which the missing values are located. This class also allows for different missing values encodings.\n",
    "\n",
    "\n",
    "<a href='https://scikit-learn.org/stable/modules/impute.html#impute'>scikit-learn</a>"
   ]
  },
  {
   "cell_type": "markdown",
   "metadata": {},
   "source": [
    "**Impute the Non-Object values using Median**"
   ]
  },
  {
   "cell_type": "code",
   "execution_count": 51,
   "metadata": {
    "ExecuteTime": {
     "end_time": "2021-11-20T15:29:34.521718Z",
     "start_time": "2021-11-20T15:29:34.498778Z"
    }
   },
   "outputs": [],
   "source": [
    "#you can use any other method as well\n",
    "from sklearn.impute import SimpleImputer\n",
    "imputer = SimpleImputer(missing_values = np.nan, strategy = 'median',verbose=0)\n",
    "imputer= imputer.fit(cars[non_objects].iloc[:,:])"
   ]
  },
  {
   "cell_type": "code",
   "execution_count": 52,
   "metadata": {
    "ExecuteTime": {
     "end_time": "2021-11-20T15:29:34.975262Z",
     "start_time": "2021-11-20T15:29:34.960302Z"
    }
   },
   "outputs": [],
   "source": [
    "cars[non_objects]=imputer.transform(cars[non_objects])"
   ]
  },
  {
   "cell_type": "markdown",
   "metadata": {},
   "source": [
    "**Impute the Object values using Mode**"
   ]
  },
  {
   "cell_type": "code",
   "execution_count": 53,
   "metadata": {
    "ExecuteTime": {
     "end_time": "2021-11-20T15:29:36.659023Z",
     "start_time": "2021-11-20T15:29:36.576397Z"
    }
   },
   "outputs": [],
   "source": [
    "from sklearn.impute import SimpleImputer\n",
    "imputer = SimpleImputer(missing_values = np.nan, strategy = 'most_frequent',verbose=0)\n",
    "imputer= imputer.fit(cars[objects].iloc[:,:])"
   ]
  },
  {
   "cell_type": "code",
   "execution_count": 54,
   "metadata": {
    "ExecuteTime": {
     "end_time": "2021-11-20T15:29:37.083627Z",
     "start_time": "2021-11-20T15:29:37.073656Z"
    }
   },
   "outputs": [],
   "source": [
    "cars[objects]=imputer.transform(cars[objects])"
   ]
  },
  {
   "cell_type": "code",
   "execution_count": 55,
   "metadata": {
    "ExecuteTime": {
     "end_time": "2021-11-20T15:29:37.727038Z",
     "start_time": "2021-11-20T15:29:37.702104Z"
    }
   },
   "outputs": [
    {
     "data": {
      "text/plain": [
       "Name                 0\n",
       "Location             0\n",
       "Year                 0\n",
       "Kilometers_Driven    0\n",
       "Fuel_Type            0\n",
       "Transmission         0\n",
       "Owner_Type           0\n",
       "Mileage              0\n",
       "Engine               0\n",
       "Power                0\n",
       "Colour               0\n",
       "Seats                0\n",
       "No. of Doors         0\n",
       "Price                0\n",
       "Brand                0\n",
       "Model                0\n",
       "Cars_Category        0\n",
       "CarAge               0\n",
       "dtype: int64"
      ]
     },
     "execution_count": 55,
     "metadata": {},
     "output_type": "execute_result"
    }
   ],
   "source": [
    "cars.isnull().sum()"
   ]
  },
  {
   "cell_type": "markdown",
   "metadata": {},
   "source": [
    "**There are no Null values now**"
   ]
  },
  {
   "cell_type": "markdown",
   "metadata": {},
   "source": [
    "**Correlation Plot**"
   ]
  },
  {
   "cell_type": "code",
   "execution_count": 56,
   "metadata": {
    "ExecuteTime": {
     "end_time": "2021-11-20T15:30:25.232751Z",
     "start_time": "2021-11-20T15:30:24.611382Z"
    }
   },
   "outputs": [
    {
     "data": {
      "text/plain": [
       "<AxesSubplot:>"
      ]
     },
     "execution_count": 56,
     "metadata": {},
     "output_type": "execute_result"
    },
    {
     "data": {
      "image/png": "[encoded data removed]",
      "text/plain": [
       "<Figure size 864x504 with 2 Axes>"
      ]
     },
     "metadata": {
      "needs_background": "light"
     },
     "output_type": "display_data"
    }
   ],
   "source": [
    "X=cars.drop(['Name','Year'],axis=1)\n",
    "\n",
    "plt.figure(figsize=(12,7))\n",
    "sns.heatmap(X.iloc[:].corr(),annot=True)"
   ]
  },
  {
   "cell_type": "markdown",
   "metadata": {},
   "source": [
    "- Engine & Power, Seats & No.of Doors -> highly correlated\n",
    "- For algorithms that are affected by correlation in independent variables, drop one of the variables in that set (Say: Engine and No. of Doors)"
   ]
  },
  {
   "cell_type": "markdown",
   "metadata": {},
   "source": [
    "**Encode the Data**"
   ]
  },
  {
   "cell_type": "code",
   "execution_count": 57,
   "metadata": {
    "ExecuteTime": {
     "end_time": "2021-11-20T15:31:58.775540Z",
     "start_time": "2021-11-20T15:31:58.746616Z"
    }
   },
   "outputs": [
    {
     "data": {
      "text/html": [
       "<div>\n",
       "<style scoped>\n",
       "    .dataframe tbody tr th:only-of-type {\n",
       "        vertical-align: middle;\n",
       "    }\n",
       "\n",
       "    .dataframe tbody tr th {\n",
       "        vertical-align: top;\n",
       "    }\n",
       "\n",
       "    .dataframe thead th {\n",
       "        text-align: right;\n",
       "    }\n",
       "</style>\n",
       "<table border=\"1\" class=\"dataframe\">\n",
       "  <thead>\n",
       "    <tr style=\"text-align: right;\">\n",
       "      <th></th>\n",
       "      <th>Name</th>\n",
       "      <th>Location</th>\n",
       "      <th>Fuel_Type</th>\n",
       "      <th>Transmission</th>\n",
       "      <th>Owner_Type</th>\n",
       "      <th>Colour</th>\n",
       "      <th>Brand</th>\n",
       "      <th>Model</th>\n",
       "      <th>Cars_Category</th>\n",
       "    </tr>\n",
       "  </thead>\n",
       "  <tbody>\n",
       "    <tr>\n",
       "      <th>0</th>\n",
       "      <td>Mahindra Scorpio</td>\n",
       "      <td>Pune</td>\n",
       "      <td>Diesel</td>\n",
       "      <td>Manual</td>\n",
       "      <td>Third</td>\n",
       "      <td>Black/Silver</td>\n",
       "      <td>Mahindra</td>\n",
       "      <td>Scorpio</td>\n",
       "      <td>Budget_Friendly</td>\n",
       "    </tr>\n",
       "    <tr>\n",
       "      <th>1</th>\n",
       "      <td>Maruti Baleno</td>\n",
       "      <td>Kochi</td>\n",
       "      <td>Petrol</td>\n",
       "      <td>Manual</td>\n",
       "      <td>First</td>\n",
       "      <td>Others</td>\n",
       "      <td>Maruti</td>\n",
       "      <td>Baleno</td>\n",
       "      <td>Budget_Friendly</td>\n",
       "    </tr>\n",
       "    <tr>\n",
       "      <th>2</th>\n",
       "      <td>Mahindra Xylo</td>\n",
       "      <td>Bangalore</td>\n",
       "      <td>Diesel</td>\n",
       "      <td>Manual</td>\n",
       "      <td>First</td>\n",
       "      <td>White</td>\n",
       "      <td>Mahindra</td>\n",
       "      <td>Xylo</td>\n",
       "      <td>Budget_Friendly</td>\n",
       "    </tr>\n",
       "    <tr>\n",
       "      <th>3</th>\n",
       "      <td>Hyundai Grand</td>\n",
       "      <td>Delhi</td>\n",
       "      <td>Diesel</td>\n",
       "      <td>Manual</td>\n",
       "      <td>First</td>\n",
       "      <td>White</td>\n",
       "      <td>Hyundai</td>\n",
       "      <td>Grand</td>\n",
       "      <td>Budget_Friendly</td>\n",
       "    </tr>\n",
       "    <tr>\n",
       "      <th>4</th>\n",
       "      <td>Toyota Innova</td>\n",
       "      <td>Delhi</td>\n",
       "      <td>Diesel</td>\n",
       "      <td>Manual</td>\n",
       "      <td>First</td>\n",
       "      <td>Others</td>\n",
       "      <td>Toyota</td>\n",
       "      <td>Innova</td>\n",
       "      <td>Medium_Range</td>\n",
       "    </tr>\n",
       "  </tbody>\n",
       "</table>\n",
       "</div>"
      ],
      "text/plain": [
       "               Name   Location Fuel_Type Transmission Owner_Type  \\\n",
       "0  Mahindra Scorpio       Pune    Diesel       Manual      Third   \n",
       "1     Maruti Baleno      Kochi    Petrol       Manual      First   \n",
       "2     Mahindra Xylo  Bangalore    Diesel       Manual      First   \n",
       "3     Hyundai Grand      Delhi    Diesel       Manual      First   \n",
       "4     Toyota Innova      Delhi    Diesel       Manual      First   \n",
       "\n",
       "         Colour     Brand    Model    Cars_Category  \n",
       "0  Black/Silver  Mahindra  Scorpio  Budget_Friendly  \n",
       "1        Others    Maruti   Baleno  Budget_Friendly  \n",
       "2         White  Mahindra     Xylo  Budget_Friendly  \n",
       "3         White   Hyundai    Grand  Budget_Friendly  \n",
       "4        Others    Toyota   Innova     Medium_Range  "
      ]
     },
     "execution_count": 57,
     "metadata": {},
     "output_type": "execute_result"
    }
   ],
   "source": [
    "cars.select_dtypes(include='object').head()"
   ]
  },
  {
   "cell_type": "markdown",
   "metadata": {},
   "source": [
    "There are two types of categorical data \n",
    "- Ordinal: Order based like 'good','bad','worst' or Clothing sizes\n",
    "- Nominal: Without any order or ranks like city names, Genders, etc\n",
    "\n",
    "Here, for now let us convert these into Categorical using pd.Categories to avoid high dimensionality because of OHE(get_dummies)\n",
    "\n",
    "You are free to use any encoding technique as long as it works.\n",
    "\n",
    "Also, rememeber that on Official Site of Scikit-learn's Label Encoder it is mentioned that \"This transformer should be used to encode target values, i.e. y, and not the input X.\" \n",
    "<a href=\"https://scikit-learn.org/stable/modules/generated/sklearn.preprocessing.LabelEncoder.html\">Link</a>"
   ]
  },
  {
   "cell_type": "code",
   "execution_count": 59,
   "metadata": {
    "ExecuteTime": {
     "end_time": "2021-11-20T15:33:38.772732Z",
     "start_time": "2021-11-20T15:33:38.761783Z"
    }
   },
   "outputs": [],
   "source": [
    "cars.drop(['Name', 'Brand', 'Model', 'Year'], axis=1, inplace=True)"
   ]
  },
  {
   "cell_type": "code",
   "execution_count": 60,
   "metadata": {
    "ExecuteTime": {
     "end_time": "2021-11-20T15:33:44.072418Z",
     "start_time": "2021-11-20T15:33:44.045504Z"
    }
   },
   "outputs": [],
   "source": [
    "for feature in cars.columns: \n",
    "    if cars[feature].dtype == 'object':\n",
    "        cars[feature] = pd.Categorical(cars[feature]).codes\n",
    "\n",
    "        cars.Cars_Category=pd.Categorical(cars.Cars_Category).codes"
   ]
  },
  {
   "cell_type": "code",
   "execution_count": null,
   "metadata": {},
   "outputs": [],
   "source": [
    "cars.dtypes"
   ]
  },
  {
   "cell_type": "code",
   "execution_count": 61,
   "metadata": {
    "ExecuteTime": {
     "end_time": "2021-11-20T15:33:53.340122Z",
     "start_time": "2021-11-20T15:33:53.310204Z"
    }
   },
   "outputs": [
    {
     "data": {
      "text/html": [
       "<div>\n",
       "<style scoped>\n",
       "    .dataframe tbody tr th:only-of-type {\n",
       "        vertical-align: middle;\n",
       "    }\n",
       "\n",
       "    .dataframe tbody tr th {\n",
       "        vertical-align: top;\n",
       "    }\n",
       "\n",
       "    .dataframe thead th {\n",
       "        text-align: right;\n",
       "    }\n",
       "</style>\n",
       "<table border=\"1\" class=\"dataframe\">\n",
       "  <thead>\n",
       "    <tr style=\"text-align: right;\">\n",
       "      <th></th>\n",
       "      <th>Location</th>\n",
       "      <th>Kilometers_Driven</th>\n",
       "      <th>Fuel_Type</th>\n",
       "      <th>Transmission</th>\n",
       "      <th>Owner_Type</th>\n",
       "      <th>Mileage</th>\n",
       "      <th>Engine</th>\n",
       "      <th>Power</th>\n",
       "      <th>Colour</th>\n",
       "      <th>Seats</th>\n",
       "      <th>No. of Doors</th>\n",
       "      <th>Price</th>\n",
       "      <th>Cars_Category</th>\n",
       "      <th>CarAge</th>\n",
       "    </tr>\n",
       "  </thead>\n",
       "  <tbody>\n",
       "    <tr>\n",
       "      <th>0</th>\n",
       "      <td>10</td>\n",
       "      <td>99000.00000</td>\n",
       "      <td>1</td>\n",
       "      <td>1</td>\n",
       "      <td>3</td>\n",
       "      <td>12.05000</td>\n",
       "      <td>2179.00000</td>\n",
       "      <td>120.00000</td>\n",
       "      <td>0</td>\n",
       "      <td>8.00000</td>\n",
       "      <td>5.00000</td>\n",
       "      <td>6</td>\n",
       "      <td>0</td>\n",
       "      <td>9.00000</td>\n",
       "    </tr>\n",
       "    <tr>\n",
       "      <th>1</th>\n",
       "      <td>7</td>\n",
       "      <td>18678.00000</td>\n",
       "      <td>4</td>\n",
       "      <td>1</td>\n",
       "      <td>0</td>\n",
       "      <td>21.10000</td>\n",
       "      <td>998.00000</td>\n",
       "      <td>100.00000</td>\n",
       "      <td>1</td>\n",
       "      <td>5.00000</td>\n",
       "      <td>4.00000</td>\n",
       "      <td>8</td>\n",
       "      <td>0</td>\n",
       "      <td>3.00000</td>\n",
       "    </tr>\n",
       "    <tr>\n",
       "      <th>2</th>\n",
       "      <td>1</td>\n",
       "      <td>100000.00000</td>\n",
       "      <td>1</td>\n",
       "      <td>1</td>\n",
       "      <td>0</td>\n",
       "      <td>11.68000</td>\n",
       "      <td>2498.00000</td>\n",
       "      <td>112.00000</td>\n",
       "      <td>2</td>\n",
       "      <td>7.00000</td>\n",
       "      <td>5.00000</td>\n",
       "      <td>4</td>\n",
       "      <td>0</td>\n",
       "      <td>8.00000</td>\n",
       "    </tr>\n",
       "    <tr>\n",
       "      <th>3</th>\n",
       "      <td>4</td>\n",
       "      <td>45000.00000</td>\n",
       "      <td>1</td>\n",
       "      <td>1</td>\n",
       "      <td>0</td>\n",
       "      <td>24.00000</td>\n",
       "      <td>1120.00000</td>\n",
       "      <td>70.00000</td>\n",
       "      <td>2</td>\n",
       "      <td>5.00000</td>\n",
       "      <td>4.00000</td>\n",
       "      <td>3</td>\n",
       "      <td>0</td>\n",
       "      <td>7.00000</td>\n",
       "    </tr>\n",
       "    <tr>\n",
       "      <th>4</th>\n",
       "      <td>4</td>\n",
       "      <td>65000.00000</td>\n",
       "      <td>1</td>\n",
       "      <td>1</td>\n",
       "      <td>0</td>\n",
       "      <td>12.80000</td>\n",
       "      <td>2494.00000</td>\n",
       "      <td>102.00000</td>\n",
       "      <td>1</td>\n",
       "      <td>8.00000</td>\n",
       "      <td>5.00000</td>\n",
       "      <td>6</td>\n",
       "      <td>1</td>\n",
       "      <td>10.00000</td>\n",
       "    </tr>\n",
       "  </tbody>\n",
       "</table>\n",
       "</div>"
      ],
      "text/plain": [
       "   Location  Kilometers_Driven  Fuel_Type  Transmission  Owner_Type  Mileage  \\\n",
       "0        10        99000.00000          1             1           3 12.05000   \n",
       "1         7        18678.00000          4             1           0 21.10000   \n",
       "2         1       100000.00000          1             1           0 11.68000   \n",
       "3         4        45000.00000          1             1           0 24.00000   \n",
       "4         4        65000.00000          1             1           0 12.80000   \n",
       "\n",
       "      Engine     Power  Colour   Seats  No. of Doors  Price  Cars_Category  \\\n",
       "0 2179.00000 120.00000       0 8.00000       5.00000      6              0   \n",
       "1  998.00000 100.00000       1 5.00000       4.00000      8              0   \n",
       "2 2498.00000 112.00000       2 7.00000       5.00000      4              0   \n",
       "3 1120.00000  70.00000       2 5.00000       4.00000      3              0   \n",
       "4 2494.00000 102.00000       1 8.00000       5.00000      6              1   \n",
       "\n",
       "    CarAge  \n",
       "0  9.00000  \n",
       "1  3.00000  \n",
       "2  8.00000  \n",
       "3  7.00000  \n",
       "4 10.00000  "
      ]
     },
     "execution_count": 61,
     "metadata": {},
     "output_type": "execute_result"
    }
   ],
   "source": [
    "cars.head()"
   ]
  },
  {
   "cell_type": "markdown",
   "metadata": {},
   "source": [
    "**Split the Data**"
   ]
  },
  {
   "cell_type": "code",
   "execution_count": 62,
   "metadata": {
    "ExecuteTime": {
     "end_time": "2021-11-20T15:38:03.844367Z",
     "start_time": "2021-11-20T15:38:03.823424Z"
    }
   },
   "outputs": [],
   "source": [
    "x=cars.drop(['Price'],axis=1) #name is splitted in Model and Brand; Year is transformed to CarAge\n",
    "y=cars.Price"
   ]
  },
  {
   "cell_type": "code",
   "execution_count": 63,
   "metadata": {
    "ExecuteTime": {
     "end_time": "2021-11-20T15:38:08.395161Z",
     "start_time": "2021-11-20T15:38:08.371234Z"
    }
   },
   "outputs": [],
   "source": [
    "x_train,x_test,y_train,y_test = train_test_split(x,y,random_state=123,test_size=0.30)"
   ]
  },
  {
   "cell_type": "code",
   "execution_count": 64,
   "metadata": {
    "ExecuteTime": {
     "end_time": "2021-11-20T15:38:36.504678Z",
     "start_time": "2021-11-20T15:38:36.485728Z"
    }
   },
   "outputs": [],
   "source": [
    "ss=StandardScaler() \n",
    "# we are scaling the data for ANN. Without scaling it will give very poor results. Computations becomes easier\n",
    "x_train_scaled=ss.fit_transform(x_train)\n",
    "x_test_scaled=ss.transform(x_test)"
   ]
  },
  {
   "cell_type": "markdown",
   "metadata": {},
   "source": [
    "**Make 4 models using ANN, Decision Tree, Random Forest, and Linear Regression**\n",
    "\n",
    "- Check Train and Test RMSE\n",
    "- Check Train and Test Scores"
   ]
  },
  {
   "cell_type": "code",
   "execution_count": 65,
   "metadata": {
    "ExecuteTime": {
     "end_time": "2021-11-20T15:39:52.029691Z",
     "start_time": "2021-11-20T15:39:01.121963Z"
    }
   },
   "outputs": [
    {
     "name": "stdout",
     "output_type": "stream",
     "text": [
      "                         Train RMSE  Test RMSE  Training Score  Test Score\n",
      "Linear Regression           5.84575    5.64994         0.72993     0.74878\n",
      "Decision Tree Regressor     0.02190    5.01359         1.00000     0.80218\n",
      "Random Forest Regressor     1.31486    4.07649         0.98634     0.86922\n",
      "ANN Regressor               2.79073    4.20322         0.93845     0.86096\n"
     ]
    }
   ],
   "source": [
    "annr = MLPRegressor(hidden_layer_sizes=(500),random_state=123, max_iter=10000)#you are free to tweak the layer sizes\n",
    "rfr = RandomForestRegressor(random_state=123)\n",
    "dtr = tree.DecisionTreeRegressor(random_state=123)\n",
    "regression_model = LinearRegression()\n",
    "\n",
    "models=[regression_model,dtr,rfr,annr]\n",
    "\n",
    "rmse_train=[]\n",
    "rmse_test=[]\n",
    "scores_train=[]\n",
    "scores_test=[]\n",
    "\n",
    "for i in models:  # we are scaling the data for ANN. Without scaling it will give very poor results. Computations becomes easier\n",
    "    \n",
    "    if (i != annr) :\n",
    "        i.fit(x_train,y_train)\n",
    "        scores_train.append(i.score(x_train, y_train))\n",
    "        scores_test.append(i.score(x_test, y_test))\n",
    "        rmse_train.append(np.sqrt(mean_squared_error(y_train,i.predict(x_train))))\n",
    "        rmse_test.append(np.sqrt(mean_squared_error(y_test,i.predict(x_test))))\n",
    " \n",
    "    else :\n",
    "        i.fit(x_train_scaled,y_train)\n",
    "        scores_train.append(i.score(x_train_scaled, y_train))\n",
    "        scores_test.append(i.score(x_test_scaled, y_test))\n",
    "        rmse_train.append(np.sqrt(mean_squared_error(y_train,i.predict(x_train_scaled))))\n",
    "        rmse_test.append(np.sqrt(mean_squared_error(y_test,i.predict(x_test_scaled))))\n",
    "        \n",
    "print(pd.DataFrame({'Train RMSE': rmse_train,'Test RMSE': rmse_test,'Training Score':scores_train,'Test Score': scores_test},\n",
    "            index=['Linear Regression','Decision Tree Regressor','Random Forest Regressor', 'ANN Regressor']))"
   ]
  },
  {
   "cell_type": "markdown",
   "metadata": {},
   "source": [
    "**Looks Like ANN, DT, and RF are over-fitting, Let's Grid Search to get the best parameters**"
   ]
  },
  {
   "cell_type": "markdown",
   "metadata": {},
   "source": [
    "**You can also visualise the tree and see where to prune it and decide the max_depth and other parameters**\n",
    "\n",
    "\n",
    "**Grid Search on Decision Tree**"
   ]
  },
  {
   "cell_type": "code",
   "execution_count": 131,
   "metadata": {
    "ExecuteTime": {
     "end_time": "2021-02-07T08:53:51.253277Z",
     "start_time": "2021-02-07T08:53:48.105645Z"
    }
   },
   "outputs": [
    {
     "name": "stdout",
     "output_type": "stream",
     "text": [
      "{'max_depth': 10, 'min_samples_leaf': 15, 'min_samples_split': 15}\n"
     ]
    }
   ],
   "source": [
    "param_grid = {\n",
    "    'max_depth': [10,15,20,25,30],\n",
    "    'min_samples_leaf': [3, 15,30],\n",
    "    'min_samples_split': [15,30,35,40,50],\n",
    "}\n",
    "\n",
    "dtr=tree.DecisionTreeRegressor(random_state=123)\n",
    "\n",
    "grid_search = GridSearchCV(estimator = dtr, param_grid = param_grid, cv = 3, njob=-1)\n",
    "\n",
    "\n",
    "grid_search.fit(x_train,y_train)\n",
    "\n",
    "print(grid_search.best_params_)\n"
   ]
  },
  {
   "cell_type": "markdown",
   "metadata": {},
   "source": [
    "Let us take Max_depth as 10, min_samples_leaf as 15 and Min_sample_split as 15. You are welcome to try other values as well."
   ]
  },
  {
   "cell_type": "markdown",
   "metadata": {},
   "source": [
    "**Using Grid Search for Random Forest**"
   ]
  },
  {
   "cell_type": "code",
   "execution_count": null,
   "metadata": {},
   "outputs": [],
   "source": [
    "param_grid = {\n",
    "    'max_depth': [7,10],\n",
    "    'max_features': [4, 6],\n",
    "    'min_samples_leaf': [3, 15,30],\n",
    "    'min_samples_split': [30, 50,100],\n",
    "    'n_estimators': [300, 500]\n",
    "}\n",
    "\n",
    "rfr = RandomForestRegressor(random_state=123)\n",
    "\n",
    "grid_search = GridSearchCV(estimator = rfr, param_grid = param_grid, cv = 3)"
   ]
  },
  {
   "cell_type": "code",
   "execution_count": 62,
   "metadata": {
    "ExecuteTime": {
     "end_time": "2021-02-07T06:57:15.191297Z",
     "start_time": "2021-02-07T06:53:26.469864Z"
    },
    "scrolled": false
   },
   "outputs": [
    {
     "data": {
      "text/plain": [
       "GridSearchCV(cv=3, estimator=RandomForestRegressor(random_state=123),\n",
       "             param_grid={'max_depth': [7, 10], 'max_features': [4, 6],\n",
       "                         'min_samples_leaf': [3, 15, 30],\n",
       "                         'min_samples_split': [30, 50, 100],\n",
       "                         'n_estimators': [300, 500]})"
      ]
     },
     "execution_count": 62,
     "metadata": {},
     "output_type": "execute_result"
    }
   ],
   "source": [
    "grid_search.fit(x_train,y_train)"
   ]
  },
  {
   "cell_type": "code",
   "execution_count": 63,
   "metadata": {
    "ExecuteTime": {
     "end_time": "2021-02-07T06:57:15.207293Z",
     "start_time": "2021-02-07T06:57:15.193296Z"
    }
   },
   "outputs": [
    {
     "name": "stdout",
     "output_type": "stream",
     "text": [
      "{'max_depth': 10, 'max_features': 6, 'min_samples_leaf': 3, 'min_samples_split': 30, 'n_estimators': 300}\n"
     ]
    }
   ],
   "source": [
    "print(grid_search.best_params_)"
   ]
  },
  {
   "cell_type": "code",
   "execution_count": 64,
   "metadata": {
    "ExecuteTime": {
     "end_time": "2021-02-07T06:57:15.318231Z",
     "start_time": "2021-02-07T06:57:15.209292Z"
    }
   },
   "outputs": [],
   "source": [
    "#best_params_rfr={'max_depth': 10, 'max_features': 6, 'min_samples_leaf': 3, 'min_samples_split': 30, 'n_estimators': 500}"
   ]
  },
  {
   "cell_type": "markdown",
   "metadata": {},
   "source": [
    "**Using Grid Search for ANN**"
   ]
  },
  {
   "cell_type": "code",
   "execution_count": 65,
   "metadata": {
    "ExecuteTime": {
     "end_time": "2021-02-07T06:57:15.397184Z",
     "start_time": "2021-02-07T06:57:15.321228Z"
    }
   },
   "outputs": [],
   "source": [
    "param_grid = {\n",
    "    'hidden_layer_sizes':[(500),(100,100)], \n",
    "    # keeping these simple because it would take too much time to run on low-end computers\n",
    "    \"activation\": [\"tanh\", \"relu\"], \n",
    "    \"solver\": [\"sgd\", \"adam\"]}\n",
    "\n",
    "annr = MLPRegressor(max_iter=10000, random_state=123)\n",
    "\n",
    "grid_search = GridSearchCV(estimator = annr, param_grid = param_grid, cv = 3)"
   ]
  },
  {
   "cell_type": "code",
   "execution_count": 66,
   "metadata": {
    "ExecuteTime": {
     "end_time": "2021-02-07T07:12:55.944160Z",
     "start_time": "2021-02-07T06:57:15.400182Z"
    }
   },
   "outputs": [
    {
     "data": {
      "text/plain": [
       "GridSearchCV(cv=3, estimator=MLPRegressor(max_iter=10000, random_state=123),\n",
       "             param_grid={'activation': ['tanh', 'relu'],\n",
       "                         'hidden_layer_sizes': [500, (100, 100)],\n",
       "                         'solver': ['sgd', 'adam']})"
      ]
     },
     "execution_count": 66,
     "metadata": {},
     "output_type": "execute_result"
    }
   ],
   "source": [
    "grid_search.fit(x_train_scaled,y_train)"
   ]
  },
  {
   "cell_type": "code",
   "execution_count": 67,
   "metadata": {
    "ExecuteTime": {
     "end_time": "2021-02-07T07:12:55.959152Z",
     "start_time": "2021-02-07T07:12:55.946159Z"
    }
   },
   "outputs": [
    {
     "name": "stdout",
     "output_type": "stream",
     "text": [
      "{'activation': 'relu', 'hidden_layer_sizes': 500, 'solver': 'sgd'}\n"
     ]
    }
   ],
   "source": [
    "print(grid_search.best_params_)"
   ]
  },
  {
   "cell_type": "code",
   "execution_count": 68,
   "metadata": {
    "ExecuteTime": {
     "end_time": "2021-02-07T07:12:56.039106Z",
     "start_time": "2021-02-07T07:12:55.975143Z"
    }
   },
   "outputs": [],
   "source": [
    "#best_params_annr={'activation': 'relu', 'hidden_layer_sizes': 500, 'solver': 'sgd'}"
   ]
  },
  {
   "cell_type": "code",
   "execution_count": 69,
   "metadata": {
    "ExecuteTime": {
     "end_time": "2021-02-07T07:12:56.119061Z",
     "start_time": "2021-02-07T07:12:56.046103Z"
    }
   },
   "outputs": [],
   "source": [
    "def percentage_error(actual, predicted):\n",
    "    res = np.empty(actual.shape)\n",
    "    for j in range(actual.shape[0]):\n",
    "        if actual[j] != 0:\n",
    "            res[j] = (actual[j] - predicted[j]) / actual[j]\n",
    "        else:\n",
    "            res[j] = predicted[j] / np.mean(actual)\n",
    "    return res\n",
    "\n",
    "def mape(y_true, y_pred): \n",
    "    return np.mean(np.abs(percentage_error(np.asarray(y_true), np.asarray(y_pred)))) * 100"
   ]
  },
  {
   "cell_type": "code",
   "execution_count": 132,
   "metadata": {
    "ExecuteTime": {
     "end_time": "2021-02-07T08:58:34.445909Z",
     "start_time": "2021-02-07T08:57:02.730426Z"
    },
    "scrolled": true
   },
   "outputs": [],
   "source": [
    "annr = MLPRegressor(activation='relu', hidden_layer_sizes=(500), \n",
    "                    solver='sgd',random_state=123, \n",
    "                    max_iter=10000)\n",
    "rfr = RandomForestRegressor(max_depth=10, max_features=6, \n",
    "                            min_samples_leaf= 3,\n",
    "                            min_samples_split= 30, n_estimators= 500,\n",
    "                            random_state=123)\n",
    "dtr = tree.DecisionTreeRegressor(max_depth=10,min_samples_split=15,min_samples_leaf=15,random_state=123)\n",
    "regression_model = LinearRegression()\n",
    "\n",
    "models=[regression_model,dtr,rfr,annr]\n",
    "\n",
    "rmse_train=[]\n",
    "rmse_test=[]\n",
    "scores_train=[]\n",
    "scores_test=[]\n",
    "mape_train=[]\n",
    "mape_test=[]\n",
    "\n",
    "for i in models:\n",
    "    if (i != annr):\n",
    "        i.fit(x_train,y_train)\n",
    "        scores_train.append(i.score(x_train, y_train))\n",
    "        scores_test.append(i.score(x_test, y_test))\n",
    "        rmse_train.append(np.sqrt(mean_squared_error(y_train,i.predict(x_train))))\n",
    "        rmse_test.append(np.sqrt(mean_squared_error(y_test,i.predict(x_test))))\n",
    "        mape_train.append(mape(y_train, i.predict(x_train)))\n",
    "        mape_test.append(mape(y_test, i.predict(x_test)))\n",
    "        \n",
    "    else :\n",
    "        i.fit(x_train_scaled,y_train)\n",
    "        scores_train.append(i.score(x_train_scaled, y_train))\n",
    "        scores_test.append(i.score(x_test_scaled, y_test))\n",
    "        rmse_train.append(np.sqrt(mean_squared_error(y_train,i.predict(x_train_scaled))))\n",
    "        rmse_test.append(np.sqrt(mean_squared_error(y_test,i.predict(x_test_scaled))))\n",
    "        mape_train.append(mape(y_train, i.predict(x_train_scaled)))\n",
    "        mape_test.append(mape(y_test, i.predict(x_test_scaled)))\n",
    "        \n",
    "        \n",
    "result = pd.DataFrame({'Train RMSE': rmse_train,'Test RMSE': rmse_test,'Training Score':scores_train,'Test Score': scores_test,\n",
    "                    'Training MAPE':mape_train,'Test MAPE': mape_test},\n",
    "            index=['Linear Regression','Decision Tree Regressor','Random Forest Regressor', 'ANN Regressor'])"
   ]
  },
  {
   "cell_type": "code",
   "execution_count": 71,
   "metadata": {
    "ExecuteTime": {
     "end_time": "2021-02-07T07:13:35.964603Z",
     "start_time": "2021-02-07T07:13:35.951611Z"
    }
   },
   "outputs": [
    {
     "data": {
      "text/html": [
       "<div>\n",
       "<style scoped>\n",
       "    .dataframe tbody tr th:only-of-type {\n",
       "        vertical-align: middle;\n",
       "    }\n",
       "\n",
       "    .dataframe tbody tr th {\n",
       "        vertical-align: top;\n",
       "    }\n",
       "\n",
       "    .dataframe thead th {\n",
       "        text-align: right;\n",
       "    }\n",
       "</style>\n",
       "<table border=\"1\" class=\"dataframe\">\n",
       "  <thead>\n",
       "    <tr style=\"text-align: right;\">\n",
       "      <th></th>\n",
       "      <th>Train RMSE</th>\n",
       "      <th>Test RMSE</th>\n",
       "      <th>Training Score</th>\n",
       "      <th>Test Score</th>\n",
       "      <th>Training MAPE</th>\n",
       "      <th>Test MAPE</th>\n",
       "    </tr>\n",
       "  </thead>\n",
       "  <tbody>\n",
       "    <tr>\n",
       "      <th>Linear Regression</th>\n",
       "      <td>6.05161</td>\n",
       "      <td>6.01239</td>\n",
       "      <td>0.71058</td>\n",
       "      <td>0.71551</td>\n",
       "      <td>72.71776</td>\n",
       "      <td>74.17866</td>\n",
       "    </tr>\n",
       "    <tr>\n",
       "      <th>Decision Tree Regressor</th>\n",
       "      <td>3.69115</td>\n",
       "      <td>4.98627</td>\n",
       "      <td>0.89232</td>\n",
       "      <td>0.80433</td>\n",
       "      <td>21.99300</td>\n",
       "      <td>27.34447</td>\n",
       "    </tr>\n",
       "    <tr>\n",
       "      <th>Random Forest Regressor</th>\n",
       "      <td>3.46362</td>\n",
       "      <td>4.28660</td>\n",
       "      <td>0.90519</td>\n",
       "      <td>0.85539</td>\n",
       "      <td>21.23458</td>\n",
       "      <td>26.06219</td>\n",
       "    </tr>\n",
       "    <tr>\n",
       "      <th>ANN Regressor</th>\n",
       "      <td>2.74940</td>\n",
       "      <td>4.14298</td>\n",
       "      <td>0.94026</td>\n",
       "      <td>0.86492</td>\n",
       "      <td>20.24291</td>\n",
       "      <td>27.39695</td>\n",
       "    </tr>\n",
       "  </tbody>\n",
       "</table>\n",
       "</div>"
      ],
      "text/plain": [
       "                         Train RMSE  Test RMSE  Training Score  Test Score  \\\n",
       "Linear Regression           6.05161    6.01239         0.71058     0.71551   \n",
       "Decision Tree Regressor     3.69115    4.98627         0.89232     0.80433   \n",
       "Random Forest Regressor     3.46362    4.28660         0.90519     0.85539   \n",
       "ANN Regressor               2.74940    4.14298         0.94026     0.86492   \n",
       "\n",
       "                         Training MAPE  Test MAPE  \n",
       "Linear Regression             72.71776   74.17866  \n",
       "Decision Tree Regressor       21.99300   27.34447  \n",
       "Random Forest Regressor       21.23458   26.06219  \n",
       "ANN Regressor                 20.24291   27.39695  "
      ]
     },
     "execution_count": 71,
     "metadata": {},
     "output_type": "execute_result"
    }
   ],
   "source": [
    "result"
   ]
  },
  {
   "cell_type": "markdown",
   "metadata": {},
   "source": [
    "> **So what do you think which algo performed well here?**\n",
    "\n",
    "ANN or Random Forest or Decision Tree or Linear Regression?\n",
    "\n",
    "> **Which performance metric will you prefer here?**\n",
    "\n",
    "RMSE or R Squared or MAPE?\n"
   ]
  },
  {
   "cell_type": "markdown",
   "metadata": {},
   "source": [
    "**Now, Go on explore the dataset and do more feature engineering, EDA and find out the best way to get better R Squared and lower RMSE**"
   ]
  },
  {
   "cell_type": "markdown",
   "metadata": {},
   "source": [
    "                                               Happy Learning"
   ]
  }
 ],
 "metadata": {
  "kernelspec": {
   "display_name": "Python 3 (ipykernel)",
   "language": "python",
   "name": "python3"
  },
  "language_info": {
   "codemirror_mode": {
    "name": "ipython",
    "version": 3
   },
   "file_extension": ".py",
   "mimetype": "text/x-python",
   "name": "python",
   "nbconvert_exporter": "python",
   "pygments_lexer": "ipython3",
   "version": "3.9.12"
  },
  "latex_envs": {
   "LaTeX_envs_menu_present": true,
   "autoclose": false,
   "autocomplete": true,
   "bibliofile": "biblio.bib",
   "cite_by": "apalike",
   "current_citInitial": 1,
   "eqLabelWithNumbers": true,
   "eqNumInitial": 1,
   "hotkeys": {
    "equation": "Ctrl-E",
    "itemize": "Ctrl-I"
   },
   "labels_anchors": false,
   "latex_user_defs": false,
   "report_style_numbering": false,
   "user_envs_cfg": false
  },
  "toc": {
   "base_numbering": 1,
   "nav_menu": {},
   "number_sections": true,
   "sideBar": true,
   "skip_h1_title": false,
   "title_cell": "Table of Contents",
   "title_sidebar": "Contents",
   "toc_cell": false,
   "toc_position": {},
   "toc_section_display": true,
   "toc_window_display": false
  },
  "varInspector": {
   "cols": {
    "lenName": 16,
    "lenType": 16,
    "lenVar": 40
   },
   "kernels_config": {
    "python": {
     "delete_cmd_postfix": "",
     "delete_cmd_prefix": "del ",
     "library": "var_list.py",
     "varRefreshCmd": "print(var_dic_list())"
    },
    "r": {
     "delete_cmd_postfix": ") ",
     "delete_cmd_prefix": "rm(",
     "library": "var_list.r",
     "varRefreshCmd": "cat(var_dic_list()) "
    }
   },
   "types_to_exclude": [
    "module",
    "function",
    "builtin_function_or_method",
    "instance",
    "_Feature"
   ],
   "window_display": false
  }
 },
 "nbformat": 4,
 "nbformat_minor": 4
}
